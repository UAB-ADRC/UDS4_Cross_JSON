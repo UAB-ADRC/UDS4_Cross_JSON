{
 "cells": [
  {
   "cell_type": "code",
   "execution_count": 5,
   "id": "251b2da2",
   "metadata": {},
   "outputs": [],
   "source": [
    "import pandas as pd\n",
    "import re\n",
    "import json\n",
    "from bs4 import BeautifulSoup\n",
    "import rdata\n",
    "import numpy as np"
   ]
  },
  {
   "cell_type": "code",
   "execution_count": 6,
   "id": "d3c4a91f",
   "metadata": {},
   "outputs": [],
   "source": [
    "data = rdata.read_rda(r'C:\\Users\\jaiga\\Downloads\\Json_SOPS\\data\\nacc_synth.rda')"
   ]
  },
  {
   "cell_type": "code",
   "execution_count": 7,
   "id": "5fa37f89",
   "metadata": {},
   "outputs": [
    {
     "data": {
      "text/plain": [
       "dict_keys(['nacc_synth'])"
      ]
     },
     "execution_count": 7,
     "metadata": {},
     "output_type": "execute_result"
    }
   ],
   "source": [
    "data.keys()"
   ]
  },
  {
   "cell_type": "code",
   "execution_count": 8,
   "id": "e71333d2",
   "metadata": {},
   "outputs": [],
   "source": [
    "nacc = data['nacc_synth']"
   ]
  },
  {
   "cell_type": "code",
   "execution_count": 9,
   "id": "55df76dc",
   "metadata": {},
   "outputs": [
    {
     "data": {
      "text/plain": [
       "(261, 1708)"
      ]
     },
     "execution_count": 9,
     "metadata": {},
     "output_type": "execute_result"
    }
   ],
   "source": [
    "nacc.shape"
   ]
  },
  {
   "cell_type": "code",
   "execution_count": 10,
   "id": "97c62921",
   "metadata": {},
   "outputs": [
    {
     "data": {
      "text/plain": [
       "race\n",
       "1    67\n",
       "2    55\n",
       "Name: count, dtype: Int64"
      ]
     },
     "execution_count": 10,
     "metadata": {},
     "output_type": "execute_result"
    }
   ],
   "source": [
    "data['nacc_synth']['race'].value_counts()"
   ]
  },
  {
   "cell_type": "code",
   "execution_count": 11,
   "id": "3c771957",
   "metadata": {},
   "outputs": [
    {
     "data": {
      "text/html": [
       "<div>\n",
       "<style scoped>\n",
       "    .dataframe tbody tr th:only-of-type {\n",
       "        vertical-align: middle;\n",
       "    }\n",
       "\n",
       "    .dataframe tbody tr th {\n",
       "        vertical-align: top;\n",
       "    }\n",
       "\n",
       "    .dataframe thead th {\n",
       "        text-align: right;\n",
       "    }\n",
       "</style>\n",
       "<table border=\"1\" class=\"dataframe\">\n",
       "  <thead>\n",
       "    <tr style=\"text-align: right;\">\n",
       "      <th></th>\n",
       "      <th>adc_sub_id</th>\n",
       "      <th>redcap_event_name</th>\n",
       "      <th>redcap_repeat_instance</th>\n",
       "      <th>subj_dob</th>\n",
       "      <th>subj_sex</th>\n",
       "      <th>subj_race</th>\n",
       "      <th>subj_age</th>\n",
       "      <th>enroll_dt</th>\n",
       "      <th>enroll_status</th>\n",
       "      <th>pet_partic</th>\n",
       "      <th>...</th>\n",
       "      <th>pax_dt</th>\n",
       "      <th>pbmc_count</th>\n",
       "      <th>pbmc_dt</th>\n",
       "      <th>plasma_count</th>\n",
       "      <th>plasma_dt</th>\n",
       "      <th>serum_count</th>\n",
       "      <th>serum_dt</th>\n",
       "      <th>urine_count</th>\n",
       "      <th>urine_dt</th>\n",
       "      <th>biospecimen_inventory_complete</th>\n",
       "    </tr>\n",
       "  </thead>\n",
       "  <tbody>\n",
       "    <tr>\n",
       "      <th>1</th>\n",
       "      <td>ADC231</td>\n",
       "      <td>visit_info_arm_1</td>\n",
       "      <td>1</td>\n",
       "      <td>1964-11-18</td>\n",
       "      <td>Male</td>\n",
       "      <td>Black or African American</td>\n",
       "      <td>61</td>\n",
       "      <td>2021-06-24</td>\n",
       "      <td>Currently Enrolled</td>\n",
       "      <td>Consented and Enrolled</td>\n",
       "      <td>...</td>\n",
       "      <td>2022-12-19</td>\n",
       "      <td>1</td>\n",
       "      <td>2022-09-14</td>\n",
       "      <td>72</td>\n",
       "      <td>2022-02-10</td>\n",
       "      <td>7</td>\n",
       "      <td>2022-02-12</td>\n",
       "      <td>2</td>\n",
       "      <td>2022-01-09</td>\n",
       "      <td>2</td>\n",
       "    </tr>\n",
       "    <tr>\n",
       "      <th>2</th>\n",
       "      <td>ADC231</td>\n",
       "      <td>visit_info_arm_1</td>\n",
       "      <td>2</td>\n",
       "      <td>1960-05-06</td>\n",
       "      <td>Male</td>\n",
       "      <td>Black or African American</td>\n",
       "      <td>66</td>\n",
       "      <td>2021-05-10</td>\n",
       "      <td>Currently Enrolled</td>\n",
       "      <td>Consented and Enrolled</td>\n",
       "      <td>...</td>\n",
       "      <td>2022-12-07</td>\n",
       "      <td>1</td>\n",
       "      <td>2022-04-03</td>\n",
       "      <td>58</td>\n",
       "      <td>2022-11-16</td>\n",
       "      <td>6</td>\n",
       "      <td>2022-08-04</td>\n",
       "      <td>2</td>\n",
       "      <td>2022-06-27</td>\n",
       "      <td>2</td>\n",
       "    </tr>\n",
       "    <tr>\n",
       "      <th>3</th>\n",
       "      <td>ADC225</td>\n",
       "      <td>visit_info_arm_1</td>\n",
       "      <td>1</td>\n",
       "      <td>1961-06-28</td>\n",
       "      <td>Female</td>\n",
       "      <td>White</td>\n",
       "      <td>59</td>\n",
       "      <td>2020-02-18</td>\n",
       "      <td>Currently Enrolled</td>\n",
       "      <td>Consented and Enrolled</td>\n",
       "      <td>...</td>\n",
       "      <td>2022-02-28</td>\n",
       "      <td>1</td>\n",
       "      <td>2022-12-08</td>\n",
       "      <td>30</td>\n",
       "      <td>2022-09-05</td>\n",
       "      <td>7</td>\n",
       "      <td>2022-11-20</td>\n",
       "      <td>1</td>\n",
       "      <td>2022-01-27</td>\n",
       "      <td>2</td>\n",
       "    </tr>\n",
       "    <tr>\n",
       "      <th>4</th>\n",
       "      <td>ADC239</td>\n",
       "      <td>visit_info_arm_1</td>\n",
       "      <td>1</td>\n",
       "      <td>1933-01-16</td>\n",
       "      <td>Female</td>\n",
       "      <td>Black or African American</td>\n",
       "      <td>74</td>\n",
       "      <td>2021-11-20</td>\n",
       "      <td>Currently Enrolled</td>\n",
       "      <td>Consented and Enrolled</td>\n",
       "      <td>...</td>\n",
       "      <td>2022-04-16</td>\n",
       "      <td>2</td>\n",
       "      <td>2022-09-12</td>\n",
       "      <td>59</td>\n",
       "      <td>2022-06-09</td>\n",
       "      <td>7</td>\n",
       "      <td>2022-08-03</td>\n",
       "      <td>1</td>\n",
       "      <td>2022-12-21</td>\n",
       "      <td>2</td>\n",
       "    </tr>\n",
       "    <tr>\n",
       "      <th>5</th>\n",
       "      <td>ADC194</td>\n",
       "      <td>visit_info_arm_1</td>\n",
       "      <td>1</td>\n",
       "      <td>1958-06-24</td>\n",
       "      <td>Female</td>\n",
       "      <td>Black or African American</td>\n",
       "      <td>76</td>\n",
       "      <td>2021-09-16</td>\n",
       "      <td>Unable to Complete</td>\n",
       "      <td>Consented and Enrolled</td>\n",
       "      <td>...</td>\n",
       "      <td>2022-08-09</td>\n",
       "      <td>1</td>\n",
       "      <td>2022-02-19</td>\n",
       "      <td>30</td>\n",
       "      <td>2022-07-15</td>\n",
       "      <td>18</td>\n",
       "      <td>2022-09-08</td>\n",
       "      <td>1</td>\n",
       "      <td>2022-01-27</td>\n",
       "      <td>2</td>\n",
       "    </tr>\n",
       "  </tbody>\n",
       "</table>\n",
       "<p>5 rows × 1708 columns</p>\n",
       "</div>"
      ],
      "text/plain": [
       "  adc_sub_id redcap_event_name  redcap_repeat_instance    subj_dob subj_sex  \\\n",
       "1     ADC231  visit_info_arm_1                       1  1964-11-18     Male   \n",
       "2     ADC231  visit_info_arm_1                       2  1960-05-06     Male   \n",
       "3     ADC225  visit_info_arm_1                       1  1961-06-28   Female   \n",
       "4     ADC239  visit_info_arm_1                       1  1933-01-16   Female   \n",
       "5     ADC194  visit_info_arm_1                       1  1958-06-24   Female   \n",
       "\n",
       "                   subj_race  subj_age   enroll_dt       enroll_status  \\\n",
       "1  Black or African American        61  2021-06-24  Currently Enrolled   \n",
       "2  Black or African American        66  2021-05-10  Currently Enrolled   \n",
       "3                      White        59  2020-02-18  Currently Enrolled   \n",
       "4  Black or African American        74  2021-11-20  Currently Enrolled   \n",
       "5  Black or African American        76  2021-09-16  Unable to Complete   \n",
       "\n",
       "               pet_partic  ...      pax_dt pbmc_count     pbmc_dt  \\\n",
       "1  Consented and Enrolled  ...  2022-12-19          1  2022-09-14   \n",
       "2  Consented and Enrolled  ...  2022-12-07          1  2022-04-03   \n",
       "3  Consented and Enrolled  ...  2022-02-28          1  2022-12-08   \n",
       "4  Consented and Enrolled  ...  2022-04-16          2  2022-09-12   \n",
       "5  Consented and Enrolled  ...  2022-08-09          1  2022-02-19   \n",
       "\n",
       "  plasma_count   plasma_dt  serum_count    serum_dt  urine_count    urine_dt  \\\n",
       "1           72  2022-02-10            7  2022-02-12            2  2022-01-09   \n",
       "2           58  2022-11-16            6  2022-08-04            2  2022-06-27   \n",
       "3           30  2022-09-05            7  2022-11-20            1  2022-01-27   \n",
       "4           59  2022-06-09            7  2022-08-03            1  2022-12-21   \n",
       "5           30  2022-07-15           18  2022-09-08            1  2022-01-27   \n",
       "\n",
       "   biospecimen_inventory_complete  \n",
       "1                               2  \n",
       "2                               2  \n",
       "3                               2  \n",
       "4                               2  \n",
       "5                               2  \n",
       "\n",
       "[5 rows x 1708 columns]"
      ]
     },
     "execution_count": 11,
     "metadata": {},
     "output_type": "execute_result"
    }
   ],
   "source": [
    "nacc.head(5)"
   ]
  },
  {
   "cell_type": "code",
   "execution_count": 12,
   "id": "b3fcff6a",
   "metadata": {},
   "outputs": [
    {
     "data": {
      "text/plain": [
       "1        88\n",
       "2      <NA>\n",
       "3        88\n",
       "4        88\n",
       "5        88\n",
       "       ... \n",
       "257    <NA>\n",
       "258    <NA>\n",
       "259    <NA>\n",
       "260    <NA>\n",
       "261    <NA>\n",
       "Name: raceter, Length: 261, dtype: Int32"
      ]
     },
     "execution_count": 12,
     "metadata": {},
     "output_type": "execute_result"
    }
   ],
   "source": [
    "nacc['raceter']"
   ]
  },
  {
   "cell_type": "code",
   "execution_count": 13,
   "id": "7323d4d8",
   "metadata": {},
   "outputs": [
    {
     "data": {
      "text/plain": [
       "raceter\n",
       "<NA>    139\n",
       "88      121\n",
       "99        1\n",
       "Name: count, dtype: Int64"
      ]
     },
     "execution_count": 13,
     "metadata": {},
     "output_type": "execute_result"
    }
   ],
   "source": [
    "nacc['raceter'].value_counts(dropna=False)"
   ]
  },
  {
   "cell_type": "code",
   "execution_count": 14,
   "id": "261e4fd7",
   "metadata": {},
   "outputs": [
    {
     "data": {
      "text/plain": [
       "racesec\n",
       "<NA>    139\n",
       "88      120\n",
       "99        2\n",
       "Name: count, dtype: Int64"
      ]
     },
     "execution_count": 14,
     "metadata": {},
     "output_type": "execute_result"
    }
   ],
   "source": [
    "nacc['racesec'].value_counts(dropna=False)"
   ]
  },
  {
   "cell_type": "code",
   "execution_count": 15,
   "id": "9473e1b9",
   "metadata": {},
   "outputs": [
    {
     "data": {
      "text/plain": [
       "race\n",
       "<NA>    139\n",
       "1        67\n",
       "2        55\n",
       "Name: count, dtype: Int64"
      ]
     },
     "execution_count": 15,
     "metadata": {},
     "output_type": "execute_result"
    }
   ],
   "source": [
    "nacc['race'].value_counts(dropna=False)"
   ]
  },
  {
   "cell_type": "code",
   "execution_count": 16,
   "id": "f9ffb2ce",
   "metadata": {},
   "outputs": [
    {
     "data": {
      "text/plain": [
       "1        1\n",
       "2     <NA>\n",
       "3        1\n",
       "4        1\n",
       "5        1\n",
       "6        2\n",
       "7     <NA>\n",
       "8        1\n",
       "9        2\n",
       "10       1\n",
       "11       1\n",
       "12    <NA>\n",
       "13       1\n",
       "14    <NA>\n",
       "15       2\n",
       "16       2\n",
       "17    <NA>\n",
       "18       2\n",
       "19    <NA>\n",
       "20       2\n",
       "21       1\n",
       "22       2\n",
       "23    <NA>\n",
       "24       2\n",
       "25       1\n",
       "Name: race, dtype: Int32"
      ]
     },
     "execution_count": 16,
     "metadata": {},
     "output_type": "execute_result"
    }
   ],
   "source": [
    "nacc['race'].head(25)"
   ]
  },
  {
   "cell_type": "code",
   "execution_count": 17,
   "id": "09110332",
   "metadata": {},
   "outputs": [],
   "source": [
    "nacc1 = nacc.copy()"
   ]
  },
  {
   "cell_type": "code",
   "execution_count": 18,
   "id": "4d0ae351",
   "metadata": {},
   "outputs": [],
   "source": [
    "# Randomly select indices\n",
    "random_indices = [2, 7,12,17,19]\n",
    "# Impute selected rows with 2\n",
    "nacc1.loc[random_indices, 'racesec'] = 2"
   ]
  },
  {
   "cell_type": "code",
   "execution_count": 19,
   "id": "5d9783ec",
   "metadata": {},
   "outputs": [
    {
     "data": {
      "text/plain": [
       "hispanic\n",
       "<NA>    140\n",
       "0       120\n",
       "9         1\n",
       "Name: count, dtype: Int64"
      ]
     },
     "execution_count": 19,
     "metadata": {},
     "output_type": "execute_result"
    }
   ],
   "source": [
    "nacc1['hispanic'].value_counts(dropna=False)"
   ]
  },
  {
   "cell_type": "code",
   "execution_count": 20,
   "id": "5762609f",
   "metadata": {},
   "outputs": [],
   "source": [
    "# Randomly select indices\n",
    "random_indices = [14, 6, 19,23]\n",
    "# Impute selected rows with 2\n",
    "nacc1.loc[random_indices, 'raceter'] = 2"
   ]
  },
  {
   "cell_type": "code",
   "execution_count": 21,
   "id": "4da40da1",
   "metadata": {},
   "outputs": [
    {
     "data": {
      "text/plain": [
       "raceter\n",
       "<NA>    136\n",
       "88      120\n",
       "2         4\n",
       "99        1\n",
       "Name: count, dtype: Int64"
      ]
     },
     "execution_count": 21,
     "metadata": {},
     "output_type": "execute_result"
    }
   ],
   "source": [
    "nacc1['raceter'].value_counts(dropna=False)"
   ]
  },
  {
   "cell_type": "code",
   "execution_count": 22,
   "id": "af470374",
   "metadata": {},
   "outputs": [],
   "source": [
    "# Load JSON mapping file\n",
    "with open(r'C:\\Users\\jaiga\\Downloads\\crosswalks\\A1_UDS4_programmatic_crosswalk_mappings.json', 'r', encoding='utf-8') as file:\n",
    "    mapping_data = json.load(file)"
   ]
  },
  {
   "cell_type": "code",
   "execution_count": 23,
   "id": "39b9384f",
   "metadata": {},
   "outputs": [
    {
     "data": {
      "text/plain": [
       "dict_keys(['Direct_Mappings', 'Conditional_Consistency', 'Structured_Transformations', 'High_Complexity'])"
      ]
     },
     "execution_count": 23,
     "metadata": {},
     "output_type": "execute_result"
    }
   ],
   "source": [
    "mapping_data.keys()"
   ]
  },
  {
   "cell_type": "raw",
   "id": "7eb8569f",
   "metadata": {},
   "source": [
    "mapping_data['Direct_Mappings'][1]"
   ]
  },
  {
   "cell_type": "code",
   "execution_count": 24,
   "id": "578adc04",
   "metadata": {},
   "outputs": [],
   "source": [
    "# Load UDS3 data with UTF-8 encoding\n",
    "uds3_df = nacc1  # Ensure nacc is defined before executing\n",
    "uds3_df.columns = uds3_df.columns.str.lower()\n",
    "uds4_df = pd.DataFrame()"
   ]
  },
  {
   "cell_type": "code",
   "execution_count": 32,
   "id": "44b3f62d",
   "metadata": {},
   "outputs": [],
   "source": [
    "# Function to process mappings dynamically\n",
    "def process_mappings(mapping_type):\n",
    "    for mapping in mapping_data.get(mapping_type, []):\n",
    "        uds3_var = mapping[\"UDS3_variable\"].lower()  # Convert to lowercase to match DataFrame columns\n",
    "        uds4_var = mapping[\"UDS4_variable\"].lower()\n",
    "        \n",
    "        if mapping_type == 'Direct_Mappings':\n",
    "            # Extract different mapping types\n",
    "            response_levels = [m for m in mapping[\"crosswalk_remappings\"] if m[\"mapping_type\"] == \"Response LEVELS\"]\n",
    "            conformity = [m for m in mapping[\"crosswalk_remappings\"] if m[\"mapping_type\"] == \"Conformity\"]\n",
    "            \n",
    "        else:\n",
    "            # Extract different mapping types\n",
    "            response_levels = [m for m in mapping[\"crosswalk_mappings\"] if m[\"mapping_type\"] == \"Response LEVELS\"]\n",
    "            conformity = [m for m in mapping[\"crosswalk_mappings\"] if m[\"mapping_type\"] == \"Conformity\"]\n",
    "        \n",
    "        # Case 1: No Response LEVELS, copy values directly\n",
    "        if not response_levels:\n",
    "            if uds3_var in uds3_df.columns:\n",
    "                uds4_df[uds4_var] = uds3_df[uds3_var]\n",
    "        \n",
    "        # Case 2: Conformity check\n",
    "        elif conformity:\n",
    "            uds3_conformity_values = set(item[\"UDS3_value\"] for mapping in conformity for item in mapping[\"mappings\"])\n",
    "            uds4_conformity_values = set(item[\"UDS4_value\"] for mapping in conformity for item in mapping[\"mappings\"])\n",
    "            \n",
    "            if uds3_conformity_values == uds4_conformity_values:  # Ensure conformity matches\n",
    "                if uds3_var in uds3_df.columns:\n",
    "                    uds4_df[uds4_var] = uds3_df[uds3_var]\n",
    "            else:\n",
    "                response_map = {str(item[\"UDS3_value\"]): str(item[\"UDS4_value\"]) for mapping in response_levels for item in mapping[\"mappings\"]}\n",
    "                if uds4_var == 'raceblack':\n",
    "                    print(response_map)\n",
    "                if uds3_var in uds3_df.columns:\n",
    "                    for uds3_value, uds4_value in response_map.items():\n",
    "                        if \"|\" not in uds3_value:  # Handle individual mappings first\n",
    "                            uds4_df.loc[uds3_df[uds3_var].astype(str) == uds3_value, uds4_var] = uds4_value\n",
    "                        else:\n",
    "                            if not (uds3_var.endswith(\"sec\") or uds3_var.endswith(\"ter\")):\n",
    "                                values = uds3_value.split(\" | \")\n",
    "                                uds4_df.loc[uds3_df[uds3_var].astype(str).isin(values), uds4_var] = uds4_value\n",
    "                \n",
    "\n",
    "# Process different mapping types dynamically\n",
    "mapping_types = [\"Direct_Mappings\", \"Conditional_Consistency\"]  # Add more types as needed\n",
    "for mapping_type in mapping_types:\n",
    "    process_mappings(mapping_type)\n",
    "\n",
    "# Save transformed UDS4 data with UTF-8-SIG encoding to avoid character corruption\n",
    "uds4_df.to_csv(\"uds4_data1.csv\", index=False, na_rep=\"NA\", encoding='utf-8-sig')\n"
   ]
  },
  {
   "cell_type": "code",
   "execution_count": 33,
   "id": "7bdfe290",
   "metadata": {},
   "outputs": [
    {
     "data": {
      "text/plain": [
       "raceblack\n",
       "None    67\n",
       "1       62\n",
       "Name: count, dtype: int64"
      ]
     },
     "execution_count": 33,
     "metadata": {},
     "output_type": "execute_result"
    }
   ],
   "source": [
    "uds4_df.raceblack.value_counts()"
   ]
  },
  {
   "cell_type": "markdown",
   "id": "91461b5b",
   "metadata": {},
   "source": [
    "### Testing"
   ]
  },
  {
   "cell_type": "code",
   "execution_count": 27,
   "id": "64428a91",
   "metadata": {},
   "outputs": [
    {
     "name": "stdout",
     "output_type": "stream",
     "text": [
      "{'2': '1', '1 | 3 | 4 | 5 | 50 | 99': 'None'}\n",
      "{'2': '1', '1 | 3 | 4 | 5 | 50 | 88 | 99': 'None'}\n",
      "{'2': '1', '1 | 3 | 4 | 5 | 50 | 88 | 99': 'None'}\n",
      "raceblack\n",
      "NaN     132\n",
      "None     67\n",
      "1        62\n",
      "Name: count, dtype: int64\n"
     ]
    }
   ],
   "source": [
    "for mapping in mapping_data.get(mapping_type, []):\n",
    "    uds3_var = mapping[\"UDS3_variable\"].lower()  # Convert to lowercase to match DataFrame columns\n",
    "    uds4_var = mapping[\"UDS4_variable\"].lower()\n",
    "    response_levels = [m for m in mapping[\"crosswalk_mappings\"] if m[\"mapping_type\"] == \"Response LEVELS\"]\n",
    "    \n",
    "    if not response_levels:\n",
    "        if uds3_var in uds3_df.columns:\n",
    "            uds4_df[uds4_var] = uds3_df[uds3_var]\n",
    "    \n",
    "    response_map = {str(item[\"UDS3_value\"]): str(item[\"UDS4_value\"]) for mapping in response_levels for item in mapping[\"mappings\"]}\n",
    "    \n",
    "    if (uds4_var == 'raceblack'):\n",
    "        print(response_map)\n",
    "\n",
    "                    \n",
    "print(uds4_df['raceblack'].value_counts(dropna=False))"
   ]
  },
  {
   "cell_type": "code",
   "execution_count": 28,
   "id": "f51039a0",
   "metadata": {},
   "outputs": [
    {
     "data": {
      "text/html": [
       "<div>\n",
       "<style scoped>\n",
       "    .dataframe tbody tr th:only-of-type {\n",
       "        vertical-align: middle;\n",
       "    }\n",
       "\n",
       "    .dataframe tbody tr th {\n",
       "        vertical-align: top;\n",
       "    }\n",
       "\n",
       "    .dataframe thead th {\n",
       "        text-align: right;\n",
       "    }\n",
       "</style>\n",
       "<table border=\"1\" class=\"dataframe\">\n",
       "  <thead>\n",
       "    <tr style=\"text-align: right;\">\n",
       "      <th></th>\n",
       "      <th>birthmo</th>\n",
       "      <th>educ</th>\n",
       "      <th>handed</th>\n",
       "      <th>livsitua</th>\n",
       "      <th>maristat</th>\n",
       "      <th>refersc</th>\n",
       "      <th>birthsex</th>\n",
       "      <th>sourcenw</th>\n",
       "      <th>zip</th>\n",
       "      <th>birthyr</th>\n",
       "      <th>ethispanic</th>\n",
       "      <th>predomlan</th>\n",
       "      <th>raceaian</th>\n",
       "      <th>raceasian</th>\n",
       "      <th>raceblack</th>\n",
       "      <th>racenhpi</th>\n",
       "      <th>raceunkn</th>\n",
       "      <th>racewhite</th>\n",
       "      <th>residenc</th>\n",
       "    </tr>\n",
       "  </thead>\n",
       "  <tbody>\n",
       "    <tr>\n",
       "      <th>1</th>\n",
       "      <td>6</td>\n",
       "      <td>18</td>\n",
       "      <td>2</td>\n",
       "      <td>3</td>\n",
       "      <td>1</td>\n",
       "      <td>6</td>\n",
       "      <td>6</td>\n",
       "      <td>1</td>\n",
       "      <td>352</td>\n",
       "      <td>1951</td>\n",
       "      <td>None</td>\n",
       "      <td>1</td>\n",
       "      <td>None</td>\n",
       "      <td>None</td>\n",
       "      <td>None</td>\n",
       "      <td>None</td>\n",
       "      <td>None</td>\n",
       "      <td>1</td>\n",
       "      <td>1</td>\n",
       "    </tr>\n",
       "    <tr>\n",
       "      <th>2</th>\n",
       "      <td>11</td>\n",
       "      <td>&lt;NA&gt;</td>\n",
       "      <td>&lt;NA&gt;</td>\n",
       "      <td>2</td>\n",
       "      <td>2</td>\n",
       "      <td>&lt;NA&gt;</td>\n",
       "      <td>5</td>\n",
       "      <td>&lt;NA&gt;</td>\n",
       "      <td>350</td>\n",
       "      <td>1963</td>\n",
       "      <td>NaN</td>\n",
       "      <td>NaN</td>\n",
       "      <td>NaN</td>\n",
       "      <td>NaN</td>\n",
       "      <td>1</td>\n",
       "      <td>NaN</td>\n",
       "      <td>NaN</td>\n",
       "      <td>NaN</td>\n",
       "      <td>1</td>\n",
       "    </tr>\n",
       "    <tr>\n",
       "      <th>3</th>\n",
       "      <td>3</td>\n",
       "      <td>18</td>\n",
       "      <td>2</td>\n",
       "      <td>1</td>\n",
       "      <td>1</td>\n",
       "      <td>1</td>\n",
       "      <td>6</td>\n",
       "      <td>1</td>\n",
       "      <td>353</td>\n",
       "      <td>1956</td>\n",
       "      <td>None</td>\n",
       "      <td>1</td>\n",
       "      <td>None</td>\n",
       "      <td>None</td>\n",
       "      <td>None</td>\n",
       "      <td>None</td>\n",
       "      <td>None</td>\n",
       "      <td>1</td>\n",
       "      <td>1</td>\n",
       "    </tr>\n",
       "    <tr>\n",
       "      <th>4</th>\n",
       "      <td>8</td>\n",
       "      <td>16</td>\n",
       "      <td>2</td>\n",
       "      <td>2</td>\n",
       "      <td>1</td>\n",
       "      <td>4</td>\n",
       "      <td>6</td>\n",
       "      <td>1</td>\n",
       "      <td>350</td>\n",
       "      <td>1963</td>\n",
       "      <td>None</td>\n",
       "      <td>1</td>\n",
       "      <td>None</td>\n",
       "      <td>None</td>\n",
       "      <td>None</td>\n",
       "      <td>None</td>\n",
       "      <td>None</td>\n",
       "      <td>1</td>\n",
       "      <td>1</td>\n",
       "    </tr>\n",
       "    <tr>\n",
       "      <th>5</th>\n",
       "      <td>4</td>\n",
       "      <td>20</td>\n",
       "      <td>2</td>\n",
       "      <td>2</td>\n",
       "      <td>1</td>\n",
       "      <td>8</td>\n",
       "      <td>5</td>\n",
       "      <td>1</td>\n",
       "      <td>350</td>\n",
       "      <td>1961</td>\n",
       "      <td>None</td>\n",
       "      <td>1</td>\n",
       "      <td>None</td>\n",
       "      <td>None</td>\n",
       "      <td>None</td>\n",
       "      <td>None</td>\n",
       "      <td>None</td>\n",
       "      <td>1</td>\n",
       "      <td>1</td>\n",
       "    </tr>\n",
       "  </tbody>\n",
       "</table>\n",
       "</div>"
      ],
      "text/plain": [
       "   birthmo  educ  handed  livsitua  maristat  refersc birthsex  sourcenw  zip  \\\n",
       "1        6    18       2         3         1        6        6         1  352   \n",
       "2       11  <NA>    <NA>         2         2     <NA>        5      <NA>  350   \n",
       "3        3    18       2         1         1        1        6         1  353   \n",
       "4        8    16       2         2         1        4        6         1  350   \n",
       "5        4    20       2         2         1        8        5         1  350   \n",
       "\n",
       "   birthyr ethispanic predomlan raceaian raceasian raceblack racenhpi  \\\n",
       "1     1951       None         1     None      None      None     None   \n",
       "2     1963        NaN       NaN      NaN       NaN         1      NaN   \n",
       "3     1956       None         1     None      None      None     None   \n",
       "4     1963       None         1     None      None      None     None   \n",
       "5     1961       None         1     None      None      None     None   \n",
       "\n",
       "  raceunkn racewhite residenc  \n",
       "1     None         1        1  \n",
       "2      NaN       NaN        1  \n",
       "3     None         1        1  \n",
       "4     None         1        1  \n",
       "5     None         1        1  "
      ]
     },
     "execution_count": 28,
     "metadata": {},
     "output_type": "execute_result"
    }
   ],
   "source": [
    "uds4_df.head(5)"
   ]
  },
  {
   "cell_type": "code",
   "execution_count": 29,
   "id": "ca735919",
   "metadata": {},
   "outputs": [
    {
     "data": {
      "text/plain": [
       "raceblack\n",
       "NaN     132\n",
       "None     67\n",
       "1        62\n",
       "Name: count, dtype: int64"
      ]
     },
     "execution_count": 29,
     "metadata": {},
     "output_type": "execute_result"
    }
   ],
   "source": [
    "uds4_df.raceblack.value_counts(dropna=False)"
   ]
  },
  {
   "cell_type": "code",
   "execution_count": 30,
   "id": "4c04069a",
   "metadata": {},
   "outputs": [
    {
     "data": {
      "text/plain": [
       "racewhite\n",
       "NaN     139\n",
       "1        67\n",
       "None     55\n",
       "Name: count, dtype: int64"
      ]
     },
     "execution_count": 30,
     "metadata": {},
     "output_type": "execute_result"
    }
   ],
   "source": [
    "uds4_df.racewhite.value_counts(dropna=False)"
   ]
  },
  {
   "cell_type": "code",
   "execution_count": null,
   "id": "9bb607b3",
   "metadata": {},
   "outputs": [],
   "source": []
  }
 ],
 "metadata": {
  "kernelspec": {
   "display_name": "Python 3 (ipykernel)",
   "language": "python",
   "name": "python3"
  },
  "language_info": {
   "codemirror_mode": {
    "name": "ipython",
    "version": 3
   },
   "file_extension": ".py",
   "mimetype": "text/x-python",
   "name": "python",
   "nbconvert_exporter": "python",
   "pygments_lexer": "ipython3",
   "version": "3.9.13"
  }
 },
 "nbformat": 4,
 "nbformat_minor": 5
}
