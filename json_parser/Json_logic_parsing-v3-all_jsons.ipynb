{
 "cells": [
  {
   "cell_type": "code",
   "execution_count": 1,
   "id": "251b2da2",
   "metadata": {},
   "outputs": [
    {
     "name": "stderr",
     "output_type": "stream",
     "text": [
      "C:\\Users\\jaiga\\anaconda3\\lib\\site-packages\\pandas\\core\\computation\\expressions.py:21: UserWarning: Pandas requires version '2.8.4' or newer of 'numexpr' (version '2.8.3' currently installed).\n",
      "  from pandas.core.computation.check import NUMEXPR_INSTALLED\n",
      "C:\\Users\\jaiga\\anaconda3\\lib\\site-packages\\pandas\\core\\arrays\\masked.py:60: UserWarning: Pandas requires version '1.3.6' or newer of 'bottleneck' (version '1.3.5' currently installed).\n",
      "  from pandas.core import (\n"
     ]
    }
   ],
   "source": [
    "import pandas as pd\n",
    "import re\n",
    "import json\n",
    "from bs4 import BeautifulSoup\n",
    "import rdata\n",
    "import numpy as np"
   ]
  },
  {
   "cell_type": "code",
   "execution_count": 2,
   "id": "9a095226",
   "metadata": {},
   "outputs": [
    {
     "data": {
      "text/html": [
       "<div>\n",
       "<style scoped>\n",
       "    .dataframe tbody tr th:only-of-type {\n",
       "        vertical-align: middle;\n",
       "    }\n",
       "\n",
       "    .dataframe tbody tr th {\n",
       "        vertical-align: top;\n",
       "    }\n",
       "\n",
       "    .dataframe thead th {\n",
       "        text-align: right;\n",
       "    }\n",
       "</style>\n",
       "<table border=\"1\" class=\"dataframe\">\n",
       "  <thead>\n",
       "    <tr style=\"text-align: right;\">\n",
       "      <th></th>\n",
       "      <th>record_id</th>\n",
       "      <th>redcap_event_name</th>\n",
       "      <th>redcap_repeat_instrument</th>\n",
       "      <th>redcap_repeat_instance</th>\n",
       "      <th>redcap_data_access_group</th>\n",
       "      <th>redcap_survey_identifier</th>\n",
       "      <th>adc_sub_id</th>\n",
       "      <th>visitmo</th>\n",
       "      <th>visitday</th>\n",
       "      <th>visityr</th>\n",
       "      <th>...</th>\n",
       "      <th>pbmc_count</th>\n",
       "      <th>pbmc_dt</th>\n",
       "      <th>plasma_count</th>\n",
       "      <th>plasma_dt</th>\n",
       "      <th>serum_count</th>\n",
       "      <th>serum_dt</th>\n",
       "      <th>urine_count</th>\n",
       "      <th>urine_dt</th>\n",
       "      <th>biospe_dde_notes</th>\n",
       "      <th>biospecimen_inventory_complete</th>\n",
       "    </tr>\n",
       "  </thead>\n",
       "  <tbody>\n",
       "    <tr>\n",
       "      <th>0</th>\n",
       "      <td>104</td>\n",
       "      <td>visit_info_arm_1</td>\n",
       "      <td>NaN</td>\n",
       "      <td>1</td>\n",
       "      <td>crosswalk_data</td>\n",
       "      <td>NaN</td>\n",
       "      <td>ADC1105</td>\n",
       "      <td>1</td>\n",
       "      <td>14</td>\n",
       "      <td>2025</td>\n",
       "      <td>...</td>\n",
       "      <td>NaN</td>\n",
       "      <td>NaN</td>\n",
       "      <td>NaN</td>\n",
       "      <td>NaN</td>\n",
       "      <td>NaN</td>\n",
       "      <td>NaN</td>\n",
       "      <td>NaN</td>\n",
       "      <td>NaN</td>\n",
       "      <td>NaN</td>\n",
       "      <td>NaN</td>\n",
       "    </tr>\n",
       "    <tr>\n",
       "      <th>1</th>\n",
       "      <td>105</td>\n",
       "      <td>visit_info_arm_1</td>\n",
       "      <td>NaN</td>\n",
       "      <td>1</td>\n",
       "      <td>crosswalk_data</td>\n",
       "      <td>NaN</td>\n",
       "      <td>ADC1102</td>\n",
       "      <td>1</td>\n",
       "      <td>13</td>\n",
       "      <td>2025</td>\n",
       "      <td>...</td>\n",
       "      <td>NaN</td>\n",
       "      <td>NaN</td>\n",
       "      <td>NaN</td>\n",
       "      <td>NaN</td>\n",
       "      <td>NaN</td>\n",
       "      <td>NaN</td>\n",
       "      <td>NaN</td>\n",
       "      <td>NaN</td>\n",
       "      <td>NaN</td>\n",
       "      <td>NaN</td>\n",
       "    </tr>\n",
       "    <tr>\n",
       "      <th>2</th>\n",
       "      <td>106</td>\n",
       "      <td>visit_info_arm_1</td>\n",
       "      <td>NaN</td>\n",
       "      <td>1</td>\n",
       "      <td>crosswalk_data</td>\n",
       "      <td>NaN</td>\n",
       "      <td>ADC1129</td>\n",
       "      <td>2</td>\n",
       "      <td>5</td>\n",
       "      <td>2025</td>\n",
       "      <td>...</td>\n",
       "      <td>NaN</td>\n",
       "      <td>NaN</td>\n",
       "      <td>NaN</td>\n",
       "      <td>NaN</td>\n",
       "      <td>NaN</td>\n",
       "      <td>NaN</td>\n",
       "      <td>NaN</td>\n",
       "      <td>NaN</td>\n",
       "      <td>NaN</td>\n",
       "      <td>NaN</td>\n",
       "    </tr>\n",
       "  </tbody>\n",
       "</table>\n",
       "<p>3 rows × 2900 columns</p>\n",
       "</div>"
      ],
      "text/plain": [
       "   record_id redcap_event_name  redcap_repeat_instrument  \\\n",
       "0        104  visit_info_arm_1                       NaN   \n",
       "1        105  visit_info_arm_1                       NaN   \n",
       "2        106  visit_info_arm_1                       NaN   \n",
       "\n",
       "   redcap_repeat_instance redcap_data_access_group  redcap_survey_identifier  \\\n",
       "0                       1           crosswalk_data                       NaN   \n",
       "1                       1           crosswalk_data                       NaN   \n",
       "2                       1           crosswalk_data                       NaN   \n",
       "\n",
       "  adc_sub_id  visitmo  visitday  visityr  ... pbmc_count pbmc_dt plasma_count  \\\n",
       "0    ADC1105        1        14     2025  ...        NaN     NaN          NaN   \n",
       "1    ADC1102        1        13     2025  ...        NaN     NaN          NaN   \n",
       "2    ADC1129        2         5     2025  ...        NaN     NaN          NaN   \n",
       "\n",
       "   plasma_dt serum_count  serum_dt  urine_count  urine_dt  biospe_dde_notes  \\\n",
       "0        NaN         NaN       NaN          NaN       NaN               NaN   \n",
       "1        NaN         NaN       NaN          NaN       NaN               NaN   \n",
       "2        NaN         NaN       NaN          NaN       NaN               NaN   \n",
       "\n",
       "   biospecimen_inventory_complete  \n",
       "0                             NaN  \n",
       "1                             NaN  \n",
       "2                             NaN  \n",
       "\n",
       "[3 rows x 2900 columns]"
      ]
     },
     "execution_count": 2,
     "metadata": {},
     "output_type": "execute_result"
    }
   ],
   "source": [
    "nacc_test = pd.read_csv(r'C:\\Users\\jaiga\\Downloads\\UDS3Mod_for_Jai_Crosswalk_Levels_only.csv')\n",
    "nacc_test.head(3)"
   ]
  },
  {
   "cell_type": "code",
   "execution_count": 3,
   "id": "2cf499e7",
   "metadata": {},
   "outputs": [
    {
     "data": {
      "text/plain": [
       "(3, 2900)"
      ]
     },
     "execution_count": 3,
     "metadata": {},
     "output_type": "execute_result"
    }
   ],
   "source": [
    "nacc_test.shape"
   ]
  },
  {
   "cell_type": "code",
   "execution_count": 4,
   "id": "578adc04",
   "metadata": {},
   "outputs": [],
   "source": [
    "uds3_df = nacc_test\n",
    "uds3_df.columns = uds3_df.columns.str.lower()\n",
    "uds4_df = pd.DataFrame()\n",
    "\n",
    "data_dict = {'ptid__a1': 'adc_sub_id', 'visitnum__a1': 'a1_visit_day','initials__a1':'a1_ex_ini'}"
   ]
  },
  {
   "cell_type": "code",
   "execution_count": 5,
   "id": "983f1b97",
   "metadata": {},
   "outputs": [
    {
     "data": {
      "text/plain": [
       "(3, 2900)"
      ]
     },
     "execution_count": 5,
     "metadata": {},
     "output_type": "execute_result"
    }
   ],
   "source": [
    "uds3_df.shape"
   ]
  },
  {
   "cell_type": "code",
   "execution_count": 6,
   "id": "00bd203d",
   "metadata": {},
   "outputs": [
    {
     "data": {
      "text/plain": [
       "(0, 0)"
      ]
     },
     "execution_count": 6,
     "metadata": {},
     "output_type": "execute_result"
    }
   ],
   "source": [
    "uds4_df.shape"
   ]
  },
  {
   "cell_type": "code",
   "execution_count": 7,
   "id": "cfc0f63f",
   "metadata": {},
   "outputs": [
    {
     "data": {
      "text/plain": [
       "telmod\n",
       "1.0    1\n",
       "Name: count, dtype: int64"
      ]
     },
     "execution_count": 7,
     "metadata": {},
     "output_type": "execute_result"
    }
   ],
   "source": [
    "uds3_df['telmod'].value_counts()"
   ]
  },
  {
   "cell_type": "code",
   "execution_count": 8,
   "id": "33bdf77a",
   "metadata": {},
   "outputs": [
    {
     "name": "stdout",
     "output_type": "stream",
     "text": [
      "Skipping column 'form_ver_num' due to non-integer values.\n",
      "Skipping column 'height' due to non-integer values.\n",
      "Skipping column 'bmi' due to non-integer values.\n",
      "Skipping column 'inbody_skel_musc_mass' due to non-integer values.\n",
      "Skipping column 'inbody_body_fat_mass' due to non-integer values.\n",
      "Skipping column 'inbody_bmi' due to non-integer values.\n",
      "Skipping column 'inbody_perc_body_fat' due to non-integer values.\n",
      "Skipping column 'memory' due to non-integer values.\n",
      "Skipping column 'orient' due to non-integer values.\n",
      "Skipping column 'commun' due to non-integer values.\n",
      "Skipping column 'homehobb' due to non-integer values.\n",
      "Skipping column 'cdrsum' due to non-integer values.\n",
      "Skipping column 'tot_sum' due to non-integer values.\n",
      "Skipping column 'cdrglob' due to non-integer values.\n",
      "Skipping column 'comport' due to non-integer values.\n",
      "Skipping column 'orient_dist' due to non-integer values.\n",
      "Skipping column 'judgment_dist' due to non-integer values.\n",
      "Skipping column 'commun_dist' due to non-integer values.\n",
      "Skipping column 'homehobb_dist' due to non-integer values.\n",
      "Skipping column 'perscare_dist' due to non-integer values.\n",
      "Skipping column 'cdr_majority' due to non-integer values.\n",
      "Skipping column 'cdr_calc' due to non-integer values.\n",
      "Skipping column 'cdr_calc_final' due to non-integer values.\n",
      "record_id                          int64\n",
      "redcap_event_name                 object\n",
      "redcap_repeat_instrument           Int64\n",
      "redcap_repeat_instance             int64\n",
      "redcap_data_access_group          object\n",
      "                                   ...  \n",
      "serum_dt                           Int64\n",
      "urine_count                        Int64\n",
      "urine_dt                           Int64\n",
      "biospe_dde_notes                   Int64\n",
      "biospecimen_inventory_complete     Int64\n",
      "Length: 2900, dtype: object\n"
     ]
    }
   ],
   "source": [
    "# Identify all float columns\n",
    "float_columns = uds3_df.select_dtypes(include=['float']).columns\n",
    "\n",
    "# Convert safely\n",
    "for col in float_columns:\n",
    "    # Convert to numeric, coerce errors to NaN\n",
    "    uds3_df[col] = pd.to_numeric(uds3_df[col], errors='coerce')\n",
    "\n",
    "    # Replace infinities with NaN\n",
    "    uds3_df[col] = uds3_df[col].replace([np.inf, -np.inf], np.nan)\n",
    "\n",
    "    # Check if all remaining values are safe for integer conversion\n",
    "    if uds3_df[col].dropna().apply(float.is_integer).all():\n",
    "        uds3_df[col] = uds3_df[col].astype(\"Int64\")  # Convert to nullable integer\n",
    "    else:\n",
    "        print(f\"Skipping column '{col}' due to non-integer values.\")\n",
    "\n",
    "# Check the updated data types\n",
    "print(uds3_df.dtypes)\n"
   ]
  },
  {
   "cell_type": "code",
   "execution_count": 34,
   "id": "9d54f5b7",
   "metadata": {},
   "outputs": [],
   "source": [
    "import json\n",
    "import os\n",
    "\n",
    "def load_json_files(directory):\n",
    "    \"\"\"Load all JSON files from the specified directory.\"\"\"\n",
    "    json_files = [f for f in os.listdir(directory) if f.endswith('.json')]\n",
    "    mapping_data = {}\n",
    "    \n",
    "    for json_file in json_files:\n",
    "        with open(os.path.join(directory, json_file), 'r') as f:\n",
    "            mapping_data[json_file] = json.load(f)\n",
    "    \n",
    "    return mapping_data"
   ]
  },
  {
   "cell_type": "code",
   "execution_count": 39,
   "id": "9094e5e6",
   "metadata": {},
   "outputs": [],
   "source": [
    "def process_mappings(mapping_data, mapping_type):\n",
    "    for mapping in mapping_data.get(mapping_type, []):\n",
    "        uds3_var = mapping[\"UDS3_variable\"].lower()\n",
    "        uds4_var = mapping[\"UDS4_variable\"].lower()\n",
    "\n",
    "        uds3_var = data_dict.get(uds3_var, uds3_var)\n",
    "        structured_mappings = []\n",
    "\n",
    "        if mapping_type == 'Direct_Mappings':\n",
    "            response_levels = [m for m in mapping[\"crosswalk_remappings\"] if m[\"mapping_type\"] == \"Response LEVELS\"]\n",
    "            conformity = [m for m in mapping[\"crosswalk_remappings\"] if m[\"mapping_type\"] == \"Conformity\"]\n",
    "        else:\n",
    "            response_levels = [m for m in mapping[\"crosswalk_mappings\"] if m[\"mapping_type\"] == \"Response LEVELS\"]\n",
    "            conformity = [m for m in mapping[\"crosswalk_mappings\"] if m[\"mapping_type\"] == \"Conformity\"]\n",
    "            structured_mappings = [m for m in mapping.get(\"crosswalk_mappings\", []) if m[\"mapping_type\"] == \"Structured mapping\"]\n",
    "\n",
    "        if mapping_type == 'Structured_Transformations':\n",
    "            if response_levels and not conformity and uds3_var in uds3_df.columns:\n",
    "                response_map = {str(item[\"UDS3_value\"]): str(item[\"UDS4_value\"]) for mapping in response_levels for item in mapping[\"mappings\"]}\n",
    "                for uds3_value, uds4_value in response_map.items():\n",
    "                    if \"|\" not in uds3_value and \"grep(\" not in uds3_value:\n",
    "                        uds4_df.loc[uds3_df[uds3_var].astype(str) == uds3_value, uds4_var] = uds4_value\n",
    "\n",
    "        if structured_mappings:\n",
    "            print(structured_mappings)\n",
    "            for struct_map in structured_mappings:\n",
    "                for mapping_entry in struct_map[\"mappings\"]:\n",
    "                    uds3_value = mapping_entry[\"UDS3_value\"]\n",
    "                    uds4_value = mapping_entry[\"UDS4_value\"]\n",
    "\n",
    "                    # Identify separator: OR ('|') or AND ('&')\n",
    "                    if \"|\" in uds3_value:\n",
    "                        separator = \"|\"\n",
    "                        operator = np.logical_or\n",
    "                    elif \"&\" in uds3_value:\n",
    "                        separator = \"&\"\n",
    "                        operator = np.logical_and\n",
    "                    else:\n",
    "                        separator = None\n",
    "                        operator = None\n",
    "\n",
    "                    # Handle multiple UDS3 variables with OR / AND conditions\n",
    "                    if separator:\n",
    "                        #print(separator)\n",
    "                        uds3_vars = [var.strip() for var in uds3_var.split(f\" {separator} \")]\n",
    "                        #print(uds3_vars)\n",
    "                        uds3_values = [var.strip() for var in uds3_value.split(f\" {separator} \")]\n",
    "                        #print(uds3_values)\n",
    "\n",
    "                        # Ensure all UDS3 columns exist in the DataFrame\n",
    "                        if all(col in uds3_df.columns for col in uds3_vars):\n",
    "                            conditions = [(uds3_df[col].astype(str) == val) for col, val in zip(uds3_vars, uds3_values)]\n",
    "                            # Apply OR or AND depending on the separator\n",
    "                            if separator == '|':\n",
    "                                mask = np.logical_or.reduce(conditions)\n",
    "                            else:\n",
    "                                mask = np.logical_and.reduce(conditions)\n",
    "\n",
    "                            # Only update where conditions match\n",
    "                            if uds4_var in uds4_df.columns:\n",
    "                                missing_mask = uds4_df[uds4_var].isna()  # Handle missing (NA) values in uds4_df\n",
    "                                uds4_df.loc[missing_mask & mask, uds4_var] = uds4_value\n",
    "                            else:\n",
    "                                uds4_df.loc[mask, uds4_var] = uds4_value\n",
    "                    else:\n",
    "                        # Direct mapping (no separator)\n",
    "                        if uds3_var in uds3_df.columns:\n",
    "                            mask = uds3_df[uds3_var].fillna(0).astype(int) == int(uds3_value)\n",
    "                            uds4_df.loc[mask, uds4_var] = uds4_value\n",
    "\n",
    "                        # Handle \"paste()\" format for combining multiple columns into a single string\n",
    "                        if \"paste(\" in mapping_entry[\"UDS4_value\"]:\n",
    "                            components_raw = mapping_entry[\"UDS4_value\"].replace(\"paste(\", \"\").replace(\")\", \"\").split(',')\n",
    "                            columns = [re.sub(r'(_{1,2}A\\d+)$', '', comp.strip()).lower() for comp in components_raw if '_A' in comp or '__A' in comp]\n",
    "\n",
    "                            if all(comp in uds3_df.columns for comp in columns):\n",
    "                                uds4_df[uds4_var] = (uds3_df[columns[0]].astype(str) + \"/\" +\n",
    "                                                     uds3_df[columns[1]].astype(str) + \"/\" +\n",
    "                                                     uds3_df[columns[2]].astype(str))\n",
    "\n",
    "       # Case 1: No Response LEVELS, copy values directly\n",
    "        if not response_levels:\n",
    "            if uds3_var in uds3_df.columns:\n",
    "                uds4_df[uds4_var] = uds3_df[uds3_var]\n",
    "\n",
    "        # Case 2: Conformity check\n",
    "        elif conformity:\n",
    "            uds3_conformity_values = set(item[\"UDS3_value\"] for mapping in conformity for item in mapping[\"mappings\"])\n",
    "            uds4_conformity_values = set(item[\"UDS4_value\"] for mapping in conformity for item in mapping[\"mappings\"])\n",
    "            \n",
    "            if uds3_conformity_values == uds4_conformity_values:  # Ensure conformity matches\n",
    "                if uds3_var in uds3_df.columns:\n",
    "                    uds4_df[uds4_var] = uds3_df[uds3_var]\n",
    "            else:\n",
    "                response_map = {str(item[\"UDS3_value\"]): str(item[\"UDS4_value\"]) for mapping in response_levels for item in mapping[\"mappings\"]}\n",
    "                \n",
    "                \n",
    "                if uds3_var in uds3_df.columns:\n",
    "                    # Applying exact single-value mappings first (e.g., 2 -> 1)\n",
    "                    if(uds4_var == 'ethispanic'):\n",
    "                        print(response_map)\n",
    "                    for uds3_value, uds4_value in response_map.items():\n",
    "                        if \"|\" not in uds3_value and \"grep(\" not in uds3_value:\n",
    "                            if pd.api.types.is_float_dtype(uds3_df[uds3_var]):\n",
    "                                uds4_df.loc[uds3_df[uds3_var] == uds3_value, uds4_var] = uds4_value\n",
    "\n",
    "                            else:\n",
    "                                uds4_df.loc[uds3_df[uds3_var].astype(str) == uds3_value, uds4_var] = uds4_value\n",
    "                        else:\n",
    "                            if not (uds3_var.endswith(\"sec\") or uds3_var.endswith(\"ter\")): #ignoring rest of racesec since it wont add any value\n",
    "                                # Handling cases with logical OR conditions (e.g., \"1 | 3 | 4 | 5 | 50 | 99\" -> None)\n",
    "                                values = uds3_value.split(\" | \")\n",
    "                                uds4_df.loc[uds3_df[uds3_var].astype(str).isin(values), uds4_var] = uds4_value\n",
    "                    \n",
    "                    # Handling grep-based text searches (e.g., grep(\"guatemalan\", HISPORX))\n",
    "                    for uds3_value, uds4_value in response_map.items():\n",
    "                        if \"grep(\" in uds3_value:\n",
    "                            search_term = re.search(r'grep\\(\"(.*?)\",', uds3_value).group(1).lower()\n",
    "                            uds4_df.loc[uds3_df[uds3_var].astype(str).str.contains(search_term, case=False, na=False), uds4_var] = uds4_value\n",
    "        \n",
    "        # Case 3: Handling secondary and tertiary race variables (race, racesec, raceter)\n",
    "        if uds3_var.endswith(\"sec\") or uds3_var.endswith(\"ter\"):\n",
    "            if uds3_var in uds3_df.columns:\n",
    "                missing_mask = uds4_df[uds4_var] == \"NA\"  # Identify rows where primary race is NA\n",
    "                \n",
    "                # Only update NA values in UDS4 based on racesec or raceter mappings\n",
    "                for uds3_value, uds4_value in response_map.items():\n",
    "                    if \"|\" not in uds3_value and \"grep(\" not in uds3_value:\n",
    "                        uds4_df.loc[missing_mask & (uds3_df[uds3_var].astype(str) == uds3_value), uds4_var] = uds4_value\n",
    "                    elif \"grep(\" in uds3_value:\n",
    "                        search_term = re.search(r'grep\\(\"(.*?)\",', uds3_value).group(1).lower()\n",
    "                        uds4_df.loc[missing_mask & uds3_df[uds3_var].astype(str).str.contains(search_term, case=False, na=False), uds4_var] = uds4_value\n",
    "                    else:\n",
    "                        values = uds3_value.split(\" | \")\n",
    "                        uds4_df.loc[missing_mask & uds3_df[uds3_var].astype(str).isin(values), uds4_var] = uds4_value\n",
    "                        "
   ]
  },
  {
   "cell_type": "code",
   "execution_count": 40,
   "id": "ee776dea",
   "metadata": {},
   "outputs": [
    {
     "name": "stdout",
     "output_type": "stream",
     "text": [
      "Processing A1_UDS4_programmatic_crosswalk_mappings.json...\n",
      "  Processing Direct_Mappings mappings...\n",
      "  Processing Conditional_Consistency mappings...\n",
      "{'1': '1', '0 | 9': 'None'}\n",
      "  Processing Structured_Transformations mappings...\n",
      "[{'mapping_type': 'Structured mapping', 'mappings': [{'UDS3_value': '0 & 0 & 0 & 0 & 0', 'UDS4_value': '1', 'reversible': 'Yes', 'note': 'UDS3 T1 specific structured mapping'}]}]\n",
      "[{'mapping_type': 'Structured mapping', 'mappings': [{'UDS3_value': '1 | 1 | 1 | 1 | 1', 'UDS4_value': '2', 'reversible': 'Yes', 'note': 'UDS3 T1 specific structured mapping'}]}]\n",
      "[{'mapping_type': 'Structured mapping', 'mappings': [{'UDS3_value': 'strplit(FRMDATEA1, \"/\")', 'UDS4_value': 'paste(VISITMO__A1, \"/\", VISITDAY__A1, \"/\", VISITYR__A1)', 'reversible': 'Yes', 'note': 'Structured mapping presented as R expression'}]}]\n",
      "Completed processing A1_UDS4_programmatic_crosswalk_mappings.json\n",
      "Processing A2_UDS4_programmatic_crosswalk_mappings.json...\n",
      "  Processing Direct_Mappings mappings...\n",
      "  Processing Conditional_Consistency mappings...\n",
      "  Processing Structured_Transformations mappings...\n",
      "[{'mapping_type': 'Structured mapping', 'mappings': [{'UDS3_value': '0 & 0 & 0 & 0 & 0', 'UDS4_value': '1', 'reversible': 'Yes', 'note': 'UDS3 T1 specific structured mapping'}]}]\n",
      "[{'mapping_type': 'Structured mapping', 'mappings': [{'UDS3_value': '1 | 1 | 1 | 1 | 1', 'UDS4_value': '2', 'reversible': 'Yes', 'note': 'UDS3 T1 specific structured mapping'}]}]\n",
      "[{'mapping_type': 'Structured mapping', 'mappings': [{'UDS3_value': 'strplit(FRMDATEA2, \"/\")', 'UDS4_value': 'paste(VISITMO__A2, \"/\", VISITDAY_A2, \"/\", VISITYR_A2)', 'reversible': 'Yes', 'note': 'Structured mapping presented as R expression'}]}]\n",
      "Completed processing A2_UDS4_programmatic_crosswalk_mappings.json\n",
      "Processing A3_UDS4_programmatic_crosswalk_mappings.json...\n",
      "  Processing Direct_Mappings mappings...\n",
      "  Processing Conditional_Consistency mappings...\n",
      "  Processing Structured_Transformations mappings...\n",
      "[{'mapping_type': 'Structured mapping', 'mappings': [{'UDS3_value': '0 & 0 & 0 & 0 & 0', 'UDS4_value': '1', 'reversible': 'Yes', 'note': 'UDS3 T1 specific structured mapping'}]}]\n",
      "[{'mapping_type': 'Structured mapping', 'mappings': [{'UDS3_value': '1 | 1 | 1 | 1 | 1', 'UDS4_value': '2', 'reversible': 'Yes', 'note': 'UDS3 T1 specific structured mapping'}]}]\n",
      "[{'mapping_type': 'Structured mapping', 'mappings': [{'UDS3_value': 'strplit(FRMDATEA3, \"/\")', 'UDS4_value': 'paste(VISITMO__A3, \"/\", VISITDAY_A3, \"/\", VISITYR_A3)', 'reversible': 'Yes', 'note': 'Structured mapping presented as R expression'}]}]\n",
      "Completed processing A3_UDS4_programmatic_crosswalk_mappings.json\n",
      "Processing A4_UDS4_programmatic_crosswalk_mappings.json...\n",
      "  Processing Direct_Mappings mappings...\n",
      "  Processing Conditional_Consistency mappings...\n",
      "  Processing Structured_Transformations mappings...\n",
      "[{'mapping_type': 'Structured mapping', 'mappings': [{'UDS3_value': '0 & 0 & 0 & 0 & 0', 'UDS4_value': '1', 'reversible': 'Yes', 'note': 'UDS3 T1 specific structured mapping'}]}]\n",
      "[{'mapping_type': 'Structured mapping', 'mappings': [{'UDS3_value': '1 | 1 | 1 | 1 | 1', 'UDS4_value': '2', 'reversible': 'Yes', 'note': 'UDS3 T1 specific structured mapping'}]}]\n",
      "[{'mapping_type': 'Structured mapping', 'mappings': [{'UDS3_value': 'strplit(FRMDATEA4, \"/\")', 'UDS4_value': 'paste(VISITMO__A4, \"/\", VISITDAY_A4, \"/\", VISITYR_A4)', 'reversible': 'Yes', 'note': 'Structured mapping presented as R expression'}]}]\n",
      "Completed processing A4_UDS4_programmatic_crosswalk_mappings.json\n"
     ]
    }
   ],
   "source": [
    "def process_all_jsons(directory):\n",
    "    \"\"\"Process all JSON files in a directory, processing each file fully before moving to the next.\"\"\"\n",
    "    mapping_data = load_json_files(directory)\n",
    "    \n",
    "    # Process each JSON file individually\n",
    "    for json_file, json_data in mapping_data.items():\n",
    "        print(f\"Processing {json_file}...\")\n",
    "\n",
    "        mapping_types = [\"Direct_Mappings\", \"Conditional_Consistency\", \"Structured_Transformations\"]\n",
    "        for mapping_type in mapping_types:\n",
    "            print(f\"  Processing {mapping_type} mappings...\")\n",
    "            process_mappings(json_data, mapping_type)\n",
    "        \n",
    "        print(f\"Completed processing {json_file}\")\n",
    "\n",
    "# Example usage\n",
    "directory = r'C:\\Users\\jaiga\\Downloads\\jsons'\n",
    "process_all_jsons(directory)\n"
   ]
  },
  {
   "cell_type": "code",
   "execution_count": 41,
   "id": "fce24f32",
   "metadata": {},
   "outputs": [],
   "source": [
    "# UTF-8-SIG encoding to avoid character corruption\n",
    "uds4_df.to_csv(\"uds4_data_init.csv\", index=False, na_rep=\"NA\", encoding='utf-8-sig')"
   ]
  },
  {
   "cell_type": "code",
   "execution_count": 42,
   "id": "083345b8",
   "metadata": {},
   "outputs": [
    {
     "data": {
      "text/html": [
       "<div>\n",
       "<style scoped>\n",
       "    .dataframe tbody tr th:only-of-type {\n",
       "        vertical-align: middle;\n",
       "    }\n",
       "\n",
       "    .dataframe tbody tr th {\n",
       "        vertical-align: top;\n",
       "    }\n",
       "\n",
       "    .dataframe thead th {\n",
       "        text-align: right;\n",
       "    }\n",
       "</style>\n",
       "<table border=\"1\" class=\"dataframe\">\n",
       "  <thead>\n",
       "    <tr style=\"text-align: right;\">\n",
       "      <th></th>\n",
       "      <th>birthmo</th>\n",
       "      <th>educ</th>\n",
       "      <th>handed</th>\n",
       "      <th>ethhisothx</th>\n",
       "      <th>livsitua</th>\n",
       "      <th>maristat</th>\n",
       "      <th>ptid__a1</th>\n",
       "      <th>refersc</th>\n",
       "      <th>birthsex</th>\n",
       "      <th>sourcenw</th>\n",
       "      <th>...</th>\n",
       "      <th>modea3</th>\n",
       "      <th>rmreasa3</th>\n",
       "      <th>frmdatea3</th>\n",
       "      <th>modea4</th>\n",
       "      <th>rmreasa4</th>\n",
       "      <th>frmdatea4</th>\n",
       "      <th>ethhisoth</th>\n",
       "      <th>ethguatem</th>\n",
       "      <th>ethsalva</th>\n",
       "      <th>racemena</th>\n",
       "    </tr>\n",
       "  </thead>\n",
       "  <tbody>\n",
       "    <tr>\n",
       "      <th>0</th>\n",
       "      <td>2</td>\n",
       "      <td>12</td>\n",
       "      <td>2</td>\n",
       "      <td>Guatemalan</td>\n",
       "      <td>6</td>\n",
       "      <td>2</td>\n",
       "      <td>ADC1105</td>\n",
       "      <td>2</td>\n",
       "      <td>2</td>\n",
       "      <td>1</td>\n",
       "      <td>...</td>\n",
       "      <td>NaN</td>\n",
       "      <td>NaN</td>\n",
       "      <td>1/14/2025</td>\n",
       "      <td>NaN</td>\n",
       "      <td>NaN</td>\n",
       "      <td>1/14/2025</td>\n",
       "      <td>1</td>\n",
       "      <td>1</td>\n",
       "      <td>NaN</td>\n",
       "      <td>NaN</td>\n",
       "    </tr>\n",
       "    <tr>\n",
       "      <th>1</th>\n",
       "      <td>3</td>\n",
       "      <td>12</td>\n",
       "      <td>2</td>\n",
       "      <td>NaN</td>\n",
       "      <td>1</td>\n",
       "      <td>2</td>\n",
       "      <td>ADC1102</td>\n",
       "      <td>3</td>\n",
       "      <td>1</td>\n",
       "      <td>1</td>\n",
       "      <td>...</td>\n",
       "      <td>NaN</td>\n",
       "      <td>NaN</td>\n",
       "      <td>1/13/2025</td>\n",
       "      <td>NaN</td>\n",
       "      <td>NaN</td>\n",
       "      <td>1/13/2025</td>\n",
       "      <td>NaN</td>\n",
       "      <td>NaN</td>\n",
       "      <td>NaN</td>\n",
       "      <td>NaN</td>\n",
       "    </tr>\n",
       "    <tr>\n",
       "      <th>2</th>\n",
       "      <td>5</td>\n",
       "      <td>16</td>\n",
       "      <td>2</td>\n",
       "      <td>NaN</td>\n",
       "      <td>2</td>\n",
       "      <td>1</td>\n",
       "      <td>ADC1129</td>\n",
       "      <td>4</td>\n",
       "      <td>2</td>\n",
       "      <td>1</td>\n",
       "      <td>...</td>\n",
       "      <td>2</td>\n",
       "      <td>4</td>\n",
       "      <td>2/5/2025</td>\n",
       "      <td>2</td>\n",
       "      <td>4</td>\n",
       "      <td>2/5/2025</td>\n",
       "      <td>NaN</td>\n",
       "      <td>NaN</td>\n",
       "      <td>NaN</td>\n",
       "      <td>NaN</td>\n",
       "    </tr>\n",
       "  </tbody>\n",
       "</table>\n",
       "<p>3 rows × 61 columns</p>\n",
       "</div>"
      ],
      "text/plain": [
       "   birthmo  educ  handed  ethhisothx  livsitua  maristat ptid__a1  refersc  \\\n",
       "0        2    12       2  Guatemalan         6         2  ADC1105        2   \n",
       "1        3    12       2         NaN         1         2  ADC1102        3   \n",
       "2        5    16       2         NaN         2         1  ADC1129        4   \n",
       "\n",
       "  birthsex  sourcenw  ...  modea3  rmreasa3  frmdatea3  modea4  rmreasa4  \\\n",
       "0        2         1  ...     NaN       NaN  1/14/2025     NaN       NaN   \n",
       "1        1         1  ...     NaN       NaN  1/13/2025     NaN       NaN   \n",
       "2        2         1  ...       2         4   2/5/2025       2         4   \n",
       "\n",
       "   frmdatea4  ethhisoth ethguatem  ethsalva  racemena  \n",
       "0  1/14/2025          1         1       NaN       NaN  \n",
       "1  1/13/2025        NaN       NaN       NaN       NaN  \n",
       "2   2/5/2025        NaN       NaN       NaN       NaN  \n",
       "\n",
       "[3 rows x 61 columns]"
      ]
     },
     "execution_count": 42,
     "metadata": {},
     "output_type": "execute_result"
    }
   ],
   "source": [
    "uds4_df.head(5)"
   ]
  },
  {
   "cell_type": "code",
   "execution_count": 43,
   "id": "2288d327",
   "metadata": {},
   "outputs": [
    {
     "data": {
      "text/plain": [
       "hispanic\n",
       "1    1\n",
       "0    1\n",
       "Name: count, dtype: Int64"
      ]
     },
     "execution_count": 43,
     "metadata": {},
     "output_type": "execute_result"
    }
   ],
   "source": [
    "uds3_df['hispanic'].value_counts()"
   ]
  },
  {
   "cell_type": "code",
   "execution_count": 44,
   "id": "110a1f6e",
   "metadata": {},
   "outputs": [
    {
     "data": {
      "text/plain": [
       "0       1\n",
       "1    None\n",
       "2     NaN\n",
       "Name: ethispanic, dtype: object"
      ]
     },
     "execution_count": 44,
     "metadata": {},
     "output_type": "execute_result"
    }
   ],
   "source": [
    "uds4_df['ethispanic']"
   ]
  },
  {
   "cell_type": "code",
   "execution_count": 45,
   "id": "922ef190",
   "metadata": {},
   "outputs": [
    {
     "data": {
      "text/plain": [
       "0    1/14/2025\n",
       "1    1/13/2025\n",
       "2     2/5/2025\n",
       "Name: frmdatea1, dtype: object"
      ]
     },
     "execution_count": 45,
     "metadata": {},
     "output_type": "execute_result"
    }
   ],
   "source": [
    "uds4_df['frmdatea1']"
   ]
  },
  {
   "cell_type": "code",
   "execution_count": null,
   "id": "3a187b73",
   "metadata": {},
   "outputs": [],
   "source": []
  }
 ],
 "metadata": {
  "kernelspec": {
   "display_name": "Python 3 (ipykernel)",
   "language": "python",
   "name": "python3"
  },
  "language_info": {
   "codemirror_mode": {
    "name": "ipython",
    "version": 3
   },
   "file_extension": ".py",
   "mimetype": "text/x-python",
   "name": "python",
   "nbconvert_exporter": "python",
   "pygments_lexer": "ipython3",
   "version": "3.9.13"
  }
 },
 "nbformat": 4,
 "nbformat_minor": 5
}
