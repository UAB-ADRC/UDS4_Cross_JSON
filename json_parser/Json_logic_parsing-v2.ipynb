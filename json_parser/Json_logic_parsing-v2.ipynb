{
 "cells": [
  {
   "cell_type": "code",
   "execution_count": 11,
   "id": "251b2da2",
   "metadata": {},
   "outputs": [],
   "source": [
    "import pandas as pd\n",
    "import re\n",
    "import json\n",
    "from bs4 import BeautifulSoup\n",
    "import rdata\n",
    "import numpy as np"
   ]
  },
  {
   "cell_type": "code",
   "execution_count": 12,
   "id": "9a095226",
   "metadata": {},
   "outputs": [
    {
     "data": {
      "text/html": [
       "<div>\n",
       "<style scoped>\n",
       "    .dataframe tbody tr th:only-of-type {\n",
       "        vertical-align: middle;\n",
       "    }\n",
       "\n",
       "    .dataframe tbody tr th {\n",
       "        vertical-align: top;\n",
       "    }\n",
       "\n",
       "    .dataframe thead th {\n",
       "        text-align: right;\n",
       "    }\n",
       "</style>\n",
       "<table border=\"1\" class=\"dataframe\">\n",
       "  <thead>\n",
       "    <tr style=\"text-align: right;\">\n",
       "      <th></th>\n",
       "      <th>record_id</th>\n",
       "      <th>redcap_event_name</th>\n",
       "      <th>redcap_repeat_instrument</th>\n",
       "      <th>redcap_repeat_instance</th>\n",
       "      <th>redcap_data_access_group</th>\n",
       "      <th>redcap_survey_identifier</th>\n",
       "      <th>adc_sub_id</th>\n",
       "      <th>visitmo</th>\n",
       "      <th>visitday</th>\n",
       "      <th>visityr</th>\n",
       "      <th>...</th>\n",
       "      <th>pbmc_count</th>\n",
       "      <th>pbmc_dt</th>\n",
       "      <th>plasma_count</th>\n",
       "      <th>plasma_dt</th>\n",
       "      <th>serum_count</th>\n",
       "      <th>serum_dt</th>\n",
       "      <th>urine_count</th>\n",
       "      <th>urine_dt</th>\n",
       "      <th>biospe_dde_notes</th>\n",
       "      <th>biospecimen_inventory_complete</th>\n",
       "    </tr>\n",
       "  </thead>\n",
       "  <tbody>\n",
       "    <tr>\n",
       "      <th>0</th>\n",
       "      <td>104</td>\n",
       "      <td>visit_info_arm_1</td>\n",
       "      <td>NaN</td>\n",
       "      <td>1</td>\n",
       "      <td>crosswalk_data</td>\n",
       "      <td>NaN</td>\n",
       "      <td>ADC1105</td>\n",
       "      <td>1</td>\n",
       "      <td>14</td>\n",
       "      <td>2025</td>\n",
       "      <td>...</td>\n",
       "      <td>NaN</td>\n",
       "      <td>NaN</td>\n",
       "      <td>NaN</td>\n",
       "      <td>NaN</td>\n",
       "      <td>NaN</td>\n",
       "      <td>NaN</td>\n",
       "      <td>NaN</td>\n",
       "      <td>NaN</td>\n",
       "      <td>NaN</td>\n",
       "      <td>NaN</td>\n",
       "    </tr>\n",
       "    <tr>\n",
       "      <th>1</th>\n",
       "      <td>105</td>\n",
       "      <td>visit_info_arm_1</td>\n",
       "      <td>NaN</td>\n",
       "      <td>1</td>\n",
       "      <td>crosswalk_data</td>\n",
       "      <td>NaN</td>\n",
       "      <td>ADC1102</td>\n",
       "      <td>1</td>\n",
       "      <td>13</td>\n",
       "      <td>2025</td>\n",
       "      <td>...</td>\n",
       "      <td>NaN</td>\n",
       "      <td>NaN</td>\n",
       "      <td>NaN</td>\n",
       "      <td>NaN</td>\n",
       "      <td>NaN</td>\n",
       "      <td>NaN</td>\n",
       "      <td>NaN</td>\n",
       "      <td>NaN</td>\n",
       "      <td>NaN</td>\n",
       "      <td>NaN</td>\n",
       "    </tr>\n",
       "    <tr>\n",
       "      <th>2</th>\n",
       "      <td>106</td>\n",
       "      <td>visit_info_arm_1</td>\n",
       "      <td>NaN</td>\n",
       "      <td>1</td>\n",
       "      <td>crosswalk_data</td>\n",
       "      <td>NaN</td>\n",
       "      <td>ADC1129</td>\n",
       "      <td>2</td>\n",
       "      <td>5</td>\n",
       "      <td>2025</td>\n",
       "      <td>...</td>\n",
       "      <td>NaN</td>\n",
       "      <td>NaN</td>\n",
       "      <td>NaN</td>\n",
       "      <td>NaN</td>\n",
       "      <td>NaN</td>\n",
       "      <td>NaN</td>\n",
       "      <td>NaN</td>\n",
       "      <td>NaN</td>\n",
       "      <td>NaN</td>\n",
       "      <td>NaN</td>\n",
       "    </tr>\n",
       "  </tbody>\n",
       "</table>\n",
       "<p>3 rows × 2900 columns</p>\n",
       "</div>"
      ],
      "text/plain": [
       "   record_id redcap_event_name  redcap_repeat_instrument  \\\n",
       "0        104  visit_info_arm_1                       NaN   \n",
       "1        105  visit_info_arm_1                       NaN   \n",
       "2        106  visit_info_arm_1                       NaN   \n",
       "\n",
       "   redcap_repeat_instance redcap_data_access_group  redcap_survey_identifier  \\\n",
       "0                       1           crosswalk_data                       NaN   \n",
       "1                       1           crosswalk_data                       NaN   \n",
       "2                       1           crosswalk_data                       NaN   \n",
       "\n",
       "  adc_sub_id  visitmo  visitday  visityr  ... pbmc_count pbmc_dt plasma_count  \\\n",
       "0    ADC1105        1        14     2025  ...        NaN     NaN          NaN   \n",
       "1    ADC1102        1        13     2025  ...        NaN     NaN          NaN   \n",
       "2    ADC1129        2         5     2025  ...        NaN     NaN          NaN   \n",
       "\n",
       "   plasma_dt serum_count  serum_dt  urine_count  urine_dt  biospe_dde_notes  \\\n",
       "0        NaN         NaN       NaN          NaN       NaN               NaN   \n",
       "1        NaN         NaN       NaN          NaN       NaN               NaN   \n",
       "2        NaN         NaN       NaN          NaN       NaN               NaN   \n",
       "\n",
       "   biospecimen_inventory_complete  \n",
       "0                             NaN  \n",
       "1                             NaN  \n",
       "2                             NaN  \n",
       "\n",
       "[3 rows x 2900 columns]"
      ]
     },
     "execution_count": 12,
     "metadata": {},
     "output_type": "execute_result"
    }
   ],
   "source": [
    "nacc_test = pd.read_csv(r'C:\\Users\\jaiga\\Downloads\\UDS3Mod_for_Jai_Crosswalk_Levels_only.csv')\n",
    "nacc_test.head(3)"
   ]
  },
  {
   "cell_type": "code",
   "execution_count": 13,
   "id": "2cf499e7",
   "metadata": {},
   "outputs": [
    {
     "data": {
      "text/plain": [
       "(3, 2900)"
      ]
     },
     "execution_count": 13,
     "metadata": {},
     "output_type": "execute_result"
    }
   ],
   "source": [
    "nacc_test.shape"
   ]
  },
  {
   "cell_type": "raw",
   "id": "4b998f7b",
   "metadata": {},
   "source": [
    "nacc_test = nacc_test.head(3)\n",
    "nacc_test.shape"
   ]
  },
  {
   "cell_type": "code",
   "execution_count": 14,
   "id": "97c62921",
   "metadata": {},
   "outputs": [
    {
     "data": {
      "text/plain": [
       "hisporx\n",
       "Guatemalan    1\n",
       "Name: count, dtype: int64"
      ]
     },
     "execution_count": 14,
     "metadata": {},
     "output_type": "execute_result"
    }
   ],
   "source": [
    "nacc_test['hisporx'].value_counts()"
   ]
  },
  {
   "cell_type": "code",
   "execution_count": 15,
   "id": "af470374",
   "metadata": {},
   "outputs": [],
   "source": [
    "# Load JSON mapping file\n",
    "with open(r'C:\\Users\\jaiga\\Downloads\\crosswalks\\A1_UDS4_programmatic_crosswalk_mappings.json', 'r', encoding='utf-8') as file:\n",
    "    mapping_data = json.load(file)"
   ]
  },
  {
   "cell_type": "code",
   "execution_count": 16,
   "id": "39b9384f",
   "metadata": {},
   "outputs": [
    {
     "data": {
      "text/plain": [
       "dict_keys(['Direct_Mappings', 'Conditional_Consistency', 'Structured_Transformations', 'High_Complexity'])"
      ]
     },
     "execution_count": 16,
     "metadata": {},
     "output_type": "execute_result"
    }
   ],
   "source": [
    "mapping_data.keys()"
   ]
  },
  {
   "cell_type": "code",
   "execution_count": 44,
   "id": "578adc04",
   "metadata": {},
   "outputs": [],
   "source": [
    "uds3_df = nacc_test\n",
    "uds3_df.columns = uds3_df.columns.str.lower()\n",
    "uds4_df = pd.DataFrame()\n",
    "\n",
    "data_dict = {'ptid__a1': 'adc_sub_id', 'visitnum__a1': 'a1_visit_day','initials__a1':'a1_ex_ini'}"
   ]
  },
  {
   "cell_type": "code",
   "execution_count": 45,
   "id": "983f1b97",
   "metadata": {},
   "outputs": [
    {
     "data": {
      "text/plain": [
       "(3, 2900)"
      ]
     },
     "execution_count": 45,
     "metadata": {},
     "output_type": "execute_result"
    }
   ],
   "source": [
    "uds3_df.shape"
   ]
  },
  {
   "cell_type": "code",
   "execution_count": 46,
   "id": "bd621e41",
   "metadata": {},
   "outputs": [
    {
     "data": {
      "text/plain": [
       "race\n",
       "2    2\n",
       "1    1\n",
       "Name: count, dtype: int64"
      ]
     },
     "execution_count": 46,
     "metadata": {},
     "output_type": "execute_result"
    }
   ],
   "source": [
    "uds3_df['race'].value_counts()"
   ]
  },
  {
   "cell_type": "code",
   "execution_count": 54,
   "id": "01027c9c",
   "metadata": {},
   "outputs": [],
   "source": [
    "def process_mappings(mapping_type):\n",
    "    for mapping in mapping_data.get(mapping_type, []):\n",
    "        uds3_var = mapping[\"UDS3_variable\"].lower() \n",
    "        uds4_var = mapping[\"UDS4_variable\"].lower()\n",
    "        \n",
    "        uds3_var = data_dict.get(uds3_var, uds3_var)\n",
    "        \n",
    "        if mapping_type == 'Direct_Mappings':\n",
    "            response_levels = [m for m in mapping[\"crosswalk_remappings\"] if m[\"mapping_type\"] == \"Response LEVELS\"]\n",
    "            conformity = [m for m in mapping[\"crosswalk_remappings\"] if m[\"mapping_type\"] == \"Conformity\"]\n",
    "            \n",
    "        else:\n",
    "            response_levels = [m for m in mapping[\"crosswalk_mappings\"] if m[\"mapping_type\"] == \"Response LEVELS\"]\n",
    "            conformity = [m for m in mapping[\"crosswalk_mappings\"] if m[\"mapping_type\"] == \"Conformity\"]\n",
    "        \n",
    "       # Case 1: No Response LEVELS, copy values directly\n",
    "        if not response_levels:\n",
    "            if uds3_var in uds3_df.columns:\n",
    "                    uds4_df[uds4_var] = uds3_df[uds3_var]\n",
    "        \n",
    "        # Case 2: Conformity check\n",
    "        elif conformity:\n",
    "            uds3_conformity_values = set(item[\"UDS3_value\"] for mapping in conformity for item in mapping[\"mappings\"])\n",
    "            uds4_conformity_values = set(item[\"UDS4_value\"] for mapping in conformity for item in mapping[\"mappings\"])\n",
    "            \n",
    "            if uds3_conformity_values == uds4_conformity_values:  # Ensure conformity matches\n",
    "                if uds3_var in uds3_df.columns:\n",
    "                    uds4_df[uds4_var] = uds3_df[uds3_var]\n",
    "            else:\n",
    "                response_map = {str(item[\"UDS3_value\"]): str(item[\"UDS4_value\"]) for mapping in response_levels for item in mapping[\"mappings\"]}\n",
    "                \n",
    "                if uds3_var in uds3_df.columns:\n",
    "                    # Applying exact single-value mappings first (e.g., 2 -> 1)\n",
    "                    for uds3_value, uds4_value in response_map.items():\n",
    "                        if \"|\" not in uds3_value and \"grep(\" not in uds3_value:\n",
    "                            uds4_df.loc[uds3_df[uds3_var].astype(str) == uds3_value, uds4_var] = uds4_value\n",
    "                            \n",
    "                        else:\n",
    "                            if not (uds3_var.endswith(\"sec\") or uds3_var.endswith(\"ter\")): #ignoring rest of racesec since it wont add any value\n",
    "                                # Handling cases with logical OR conditions (e.g., \"1 | 3 | 4 | 5 | 50 | 99\" -> None)\n",
    "                                values = uds3_value.split(\" | \")\n",
    "                                uds4_df.loc[uds3_df[uds3_var].astype(str).isin(values), uds4_var] = uds4_value\n",
    "                    \n",
    "                    # Handling grep-based text searches (e.g., grep(\"guatemalan\", HISPORX))\n",
    "                    for uds3_value, uds4_value in response_map.items():\n",
    "                        if \"grep(\" in uds3_value:\n",
    "                            search_term = re.search(r'grep\\(\"(.*?)\",', uds3_value).group(1).lower()\n",
    "                            uds4_df.loc[uds3_df[uds3_var].astype(str).str.contains(search_term, case=False, na=False), uds4_var] = uds4_value\n",
    "        \n",
    "        # Case 3: Handling secondary and tertiary race variables (race, racesec, raceter)\n",
    "        if uds3_var.endswith(\"sec\") or uds3_var.endswith(\"ter\"):\n",
    "            if uds3_var in uds3_df.columns:\n",
    "                missing_mask = uds4_df[uds4_var] == \"NA\"  # Identify rows where primary race is NA\n",
    "                \n",
    "                # Only update NA values in UDS4 based on racesec or raceter mappings\n",
    "                for uds3_value, uds4_value in response_map.items():\n",
    "                    if \"|\" not in uds3_value and \"grep(\" not in uds3_value:\n",
    "                        uds4_df.loc[missing_mask & (uds3_df[uds3_var].astype(str) == uds3_value), uds4_var] = uds4_value\n",
    "                    elif \"grep(\" in uds3_value:\n",
    "                        search_term = re.search(r'grep\\(\"(.*?)\",', uds3_value).group(1).lower()\n",
    "                        uds4_df.loc[missing_mask & uds3_df[uds3_var].astype(str).str.contains(search_term, case=False, na=False), uds4_var] = uds4_value\n",
    "                    else:\n",
    "                        values = uds3_value.split(\" | \")\n",
    "                        uds4_df.loc[missing_mask & uds3_df[uds3_var].astype(str).isin(values), uds4_var] = uds4_value\n",
    "\n",
    "# Process different mapping types dynamically\n",
    "mapping_types = [\"Direct_Mappings\", \"Conditional_Consistency\"]  # Add more types as needed\n",
    "for mapping_type in mapping_types:\n",
    "    process_mappings(mapping_type)"
   ]
  },
  {
   "cell_type": "code",
   "execution_count": null,
   "id": "fce24f32",
   "metadata": {},
   "outputs": [],
   "source": [
    "# UTF-8-SIG encoding to avoid character corruption\n",
    "uds4_df.to_csv(\"uds4_data11.csv\", index=False, na_rep=\"NA\", encoding='utf-8-sig')"
   ]
  },
  {
   "cell_type": "code",
   "execution_count": 55,
   "id": "a580a324",
   "metadata": {},
   "outputs": [
    {
     "data": {
      "text/html": [
       "<div>\n",
       "<style scoped>\n",
       "    .dataframe tbody tr th:only-of-type {\n",
       "        vertical-align: middle;\n",
       "    }\n",
       "\n",
       "    .dataframe tbody tr th {\n",
       "        vertical-align: top;\n",
       "    }\n",
       "\n",
       "    .dataframe thead th {\n",
       "        text-align: right;\n",
       "    }\n",
       "</style>\n",
       "<table border=\"1\" class=\"dataframe\">\n",
       "  <thead>\n",
       "    <tr style=\"text-align: right;\">\n",
       "      <th></th>\n",
       "      <th>birthmo</th>\n",
       "      <th>educ</th>\n",
       "      <th>handed</th>\n",
       "      <th>ethhisothx</th>\n",
       "      <th>livsitua</th>\n",
       "      <th>maristat</th>\n",
       "      <th>ptid__a1</th>\n",
       "      <th>refersc</th>\n",
       "      <th>birthsex</th>\n",
       "      <th>sourcenw</th>\n",
       "      <th>...</th>\n",
       "      <th>initialsa1</th>\n",
       "      <th>predomlan</th>\n",
       "      <th>raceaian</th>\n",
       "      <th>raceasian</th>\n",
       "      <th>raceblack</th>\n",
       "      <th>racenhpi</th>\n",
       "      <th>raceunkn</th>\n",
       "      <th>racewhite</th>\n",
       "      <th>racemena</th>\n",
       "      <th>residenc</th>\n",
       "    </tr>\n",
       "  </thead>\n",
       "  <tbody>\n",
       "    <tr>\n",
       "      <th>0</th>\n",
       "      <td>2</td>\n",
       "      <td>12</td>\n",
       "      <td>2</td>\n",
       "      <td>Guatemalan</td>\n",
       "      <td>6</td>\n",
       "      <td>2</td>\n",
       "      <td>ADC1105</td>\n",
       "      <td>2</td>\n",
       "      <td>2</td>\n",
       "      <td>1</td>\n",
       "      <td>...</td>\n",
       "      <td>zz</td>\n",
       "      <td>1</td>\n",
       "      <td>None</td>\n",
       "      <td>None</td>\n",
       "      <td>None</td>\n",
       "      <td>None</td>\n",
       "      <td>None</td>\n",
       "      <td>1</td>\n",
       "      <td>NaN</td>\n",
       "      <td>3</td>\n",
       "    </tr>\n",
       "    <tr>\n",
       "      <th>1</th>\n",
       "      <td>3</td>\n",
       "      <td>12</td>\n",
       "      <td>2</td>\n",
       "      <td>NaN</td>\n",
       "      <td>1</td>\n",
       "      <td>2</td>\n",
       "      <td>ADC1102</td>\n",
       "      <td>3</td>\n",
       "      <td>1</td>\n",
       "      <td>1</td>\n",
       "      <td>...</td>\n",
       "      <td>cc</td>\n",
       "      <td>1</td>\n",
       "      <td>None</td>\n",
       "      <td>None</td>\n",
       "      <td>1</td>\n",
       "      <td>1</td>\n",
       "      <td>None</td>\n",
       "      <td>None</td>\n",
       "      <td>NaN</td>\n",
       "      <td>1</td>\n",
       "    </tr>\n",
       "    <tr>\n",
       "      <th>2</th>\n",
       "      <td>5</td>\n",
       "      <td>16</td>\n",
       "      <td>2</td>\n",
       "      <td>NaN</td>\n",
       "      <td>2</td>\n",
       "      <td>1</td>\n",
       "      <td>ADC1129</td>\n",
       "      <td>4</td>\n",
       "      <td>2</td>\n",
       "      <td>1</td>\n",
       "      <td>...</td>\n",
       "      <td>CVB</td>\n",
       "      <td>1</td>\n",
       "      <td>None</td>\n",
       "      <td>None</td>\n",
       "      <td>1</td>\n",
       "      <td>1</td>\n",
       "      <td>None</td>\n",
       "      <td>None</td>\n",
       "      <td>NaN</td>\n",
       "      <td>1</td>\n",
       "    </tr>\n",
       "  </tbody>\n",
       "</table>\n",
       "<p>3 rows × 31 columns</p>\n",
       "</div>"
      ],
      "text/plain": [
       "   birthmo  educ  handed  ethhisothx  livsitua  maristat ptid__a1  refersc  \\\n",
       "0        2    12       2  Guatemalan         6         2  ADC1105        2   \n",
       "1        3    12       2         NaN         1         2  ADC1102        3   \n",
       "2        5    16       2         NaN         2         1  ADC1129        4   \n",
       "\n",
       "  birthsex  sourcenw  ...  initialsa1  predomlan  raceaian raceasian  \\\n",
       "0        2         1  ...          zz          1      None      None   \n",
       "1        1         1  ...          cc          1      None      None   \n",
       "2        2         1  ...         CVB          1      None      None   \n",
       "\n",
       "  raceblack racenhpi raceunkn racewhite racemena residenc  \n",
       "0      None     None     None         1      NaN        3  \n",
       "1         1        1     None      None      NaN        1  \n",
       "2         1        1     None      None      NaN        1  \n",
       "\n",
       "[3 rows x 31 columns]"
      ]
     },
     "execution_count": 55,
     "metadata": {},
     "output_type": "execute_result"
    }
   ],
   "source": [
    "uds4_df.head(3)"
   ]
  },
  {
   "cell_type": "code",
   "execution_count": null,
   "id": "97235b8f",
   "metadata": {},
   "outputs": [],
   "source": []
  }
 ],
 "metadata": {
  "kernelspec": {
   "display_name": "Python 3 (ipykernel)",
   "language": "python",
   "name": "python3"
  },
  "language_info": {
   "codemirror_mode": {
    "name": "ipython",
    "version": 3
   },
   "file_extension": ".py",
   "mimetype": "text/x-python",
   "name": "python",
   "nbconvert_exporter": "python",
   "pygments_lexer": "ipython3",
   "version": "3.9.13"
  }
 },
 "nbformat": 4,
 "nbformat_minor": 5
}
