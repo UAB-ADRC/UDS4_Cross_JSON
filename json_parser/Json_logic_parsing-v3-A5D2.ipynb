{
 "cells": [
  {
   "cell_type": "code",
   "execution_count": 77,
   "id": "251b2da2",
   "metadata": {},
   "outputs": [],
   "source": [
    "import pandas as pd\n",
    "import re\n",
    "import json\n",
    "from bs4 import BeautifulSoup\n",
    "import rdata\n",
    "import numpy as np"
   ]
  },
  {
   "cell_type": "code",
   "execution_count": 78,
   "id": "9a095226",
   "metadata": {},
   "outputs": [
    {
     "data": {
      "text/html": [
       "<div>\n",
       "<style scoped>\n",
       "    .dataframe tbody tr th:only-of-type {\n",
       "        vertical-align: middle;\n",
       "    }\n",
       "\n",
       "    .dataframe tbody tr th {\n",
       "        vertical-align: top;\n",
       "    }\n",
       "\n",
       "    .dataframe thead th {\n",
       "        text-align: right;\n",
       "    }\n",
       "</style>\n",
       "<table border=\"1\" class=\"dataframe\">\n",
       "  <thead>\n",
       "    <tr style=\"text-align: right;\">\n",
       "      <th></th>\n",
       "      <th>record_id</th>\n",
       "      <th>redcap_event_name</th>\n",
       "      <th>redcap_repeat_instrument</th>\n",
       "      <th>redcap_repeat_instance</th>\n",
       "      <th>redcap_data_access_group</th>\n",
       "      <th>redcap_survey_identifier</th>\n",
       "      <th>adc_sub_id</th>\n",
       "      <th>visitmo</th>\n",
       "      <th>visitday</th>\n",
       "      <th>visityr</th>\n",
       "      <th>...</th>\n",
       "      <th>pbmc_count</th>\n",
       "      <th>pbmc_dt</th>\n",
       "      <th>plasma_count</th>\n",
       "      <th>plasma_dt</th>\n",
       "      <th>serum_count</th>\n",
       "      <th>serum_dt</th>\n",
       "      <th>urine_count</th>\n",
       "      <th>urine_dt</th>\n",
       "      <th>biospe_dde_notes</th>\n",
       "      <th>biospecimen_inventory_complete</th>\n",
       "    </tr>\n",
       "  </thead>\n",
       "  <tbody>\n",
       "    <tr>\n",
       "      <th>0</th>\n",
       "      <td>104</td>\n",
       "      <td>visit_info_arm_1</td>\n",
       "      <td>NaN</td>\n",
       "      <td>1</td>\n",
       "      <td>crosswalk_data</td>\n",
       "      <td>NaN</td>\n",
       "      <td>ADC1105</td>\n",
       "      <td>1</td>\n",
       "      <td>14</td>\n",
       "      <td>2025</td>\n",
       "      <td>...</td>\n",
       "      <td>NaN</td>\n",
       "      <td>NaN</td>\n",
       "      <td>NaN</td>\n",
       "      <td>NaN</td>\n",
       "      <td>NaN</td>\n",
       "      <td>NaN</td>\n",
       "      <td>NaN</td>\n",
       "      <td>NaN</td>\n",
       "      <td>NaN</td>\n",
       "      <td>NaN</td>\n",
       "    </tr>\n",
       "    <tr>\n",
       "      <th>1</th>\n",
       "      <td>105</td>\n",
       "      <td>visit_info_arm_1</td>\n",
       "      <td>NaN</td>\n",
       "      <td>1</td>\n",
       "      <td>crosswalk_data</td>\n",
       "      <td>NaN</td>\n",
       "      <td>ADC1102</td>\n",
       "      <td>1</td>\n",
       "      <td>13</td>\n",
       "      <td>2025</td>\n",
       "      <td>...</td>\n",
       "      <td>NaN</td>\n",
       "      <td>NaN</td>\n",
       "      <td>NaN</td>\n",
       "      <td>NaN</td>\n",
       "      <td>NaN</td>\n",
       "      <td>NaN</td>\n",
       "      <td>NaN</td>\n",
       "      <td>NaN</td>\n",
       "      <td>NaN</td>\n",
       "      <td>NaN</td>\n",
       "    </tr>\n",
       "    <tr>\n",
       "      <th>2</th>\n",
       "      <td>106</td>\n",
       "      <td>visit_info_arm_1</td>\n",
       "      <td>NaN</td>\n",
       "      <td>1</td>\n",
       "      <td>crosswalk_data</td>\n",
       "      <td>NaN</td>\n",
       "      <td>ADC1129</td>\n",
       "      <td>2</td>\n",
       "      <td>5</td>\n",
       "      <td>2025</td>\n",
       "      <td>...</td>\n",
       "      <td>NaN</td>\n",
       "      <td>NaN</td>\n",
       "      <td>NaN</td>\n",
       "      <td>NaN</td>\n",
       "      <td>NaN</td>\n",
       "      <td>NaN</td>\n",
       "      <td>NaN</td>\n",
       "      <td>NaN</td>\n",
       "      <td>NaN</td>\n",
       "      <td>NaN</td>\n",
       "    </tr>\n",
       "  </tbody>\n",
       "</table>\n",
       "<p>3 rows × 2900 columns</p>\n",
       "</div>"
      ],
      "text/plain": [
       "   record_id redcap_event_name  redcap_repeat_instrument  \\\n",
       "0        104  visit_info_arm_1                       NaN   \n",
       "1        105  visit_info_arm_1                       NaN   \n",
       "2        106  visit_info_arm_1                       NaN   \n",
       "\n",
       "   redcap_repeat_instance redcap_data_access_group  redcap_survey_identifier  \\\n",
       "0                       1           crosswalk_data                       NaN   \n",
       "1                       1           crosswalk_data                       NaN   \n",
       "2                       1           crosswalk_data                       NaN   \n",
       "\n",
       "  adc_sub_id  visitmo  visitday  visityr  ... pbmc_count pbmc_dt plasma_count  \\\n",
       "0    ADC1105        1        14     2025  ...        NaN     NaN          NaN   \n",
       "1    ADC1102        1        13     2025  ...        NaN     NaN          NaN   \n",
       "2    ADC1129        2         5     2025  ...        NaN     NaN          NaN   \n",
       "\n",
       "   plasma_dt serum_count  serum_dt  urine_count  urine_dt  biospe_dde_notes  \\\n",
       "0        NaN         NaN       NaN          NaN       NaN               NaN   \n",
       "1        NaN         NaN       NaN          NaN       NaN               NaN   \n",
       "2        NaN         NaN       NaN          NaN       NaN               NaN   \n",
       "\n",
       "   biospecimen_inventory_complete  \n",
       "0                             NaN  \n",
       "1                             NaN  \n",
       "2                             NaN  \n",
       "\n",
       "[3 rows x 2900 columns]"
      ]
     },
     "execution_count": 78,
     "metadata": {},
     "output_type": "execute_result"
    }
   ],
   "source": [
    "nacc_test = pd.read_csv(r'C:\\Users\\jaiga\\Downloads\\UDS3Mod_for_Jai_Crosswalk_Levels_only.csv')\n",
    "nacc_test.head(3)"
   ]
  },
  {
   "cell_type": "code",
   "execution_count": 79,
   "id": "2cf499e7",
   "metadata": {},
   "outputs": [
    {
     "data": {
      "text/plain": [
       "(3, 2900)"
      ]
     },
     "execution_count": 79,
     "metadata": {},
     "output_type": "execute_result"
    }
   ],
   "source": [
    "nacc_test.shape"
   ]
  },
  {
   "cell_type": "code",
   "execution_count": 80,
   "id": "8d3fd81e",
   "metadata": {},
   "outputs": [],
   "source": [
    "uds3_df = nacc_test\n",
    "uds3_df.columns = uds3_df.columns.str.lower()"
   ]
  },
  {
   "cell_type": "code",
   "execution_count": 81,
   "id": "983f1b97",
   "metadata": {},
   "outputs": [
    {
     "data": {
      "text/plain": [
       "(3, 2900)"
      ]
     },
     "execution_count": 81,
     "metadata": {},
     "output_type": "execute_result"
    }
   ],
   "source": [
    "uds3_df.shape"
   ]
  },
  {
   "cell_type": "code",
   "execution_count": 82,
   "id": "cfc0f63f",
   "metadata": {},
   "outputs": [
    {
     "data": {
      "text/plain": [
       "telmod\n",
       "1.0    1\n",
       "Name: count, dtype: int64"
      ]
     },
     "execution_count": 82,
     "metadata": {},
     "output_type": "execute_result"
    }
   ],
   "source": [
    "uds3_df['telmod'].value_counts()"
   ]
  },
  {
   "cell_type": "code",
   "execution_count": 83,
   "id": "d423d523",
   "metadata": {},
   "outputs": [
    {
     "name": "stdout",
     "output_type": "stream",
     "text": [
      "Skipping column 'form_ver_num' due to non-integer values.\n",
      "Skipping column 'height' due to non-integer values.\n",
      "Skipping column 'bmi' due to non-integer values.\n",
      "Skipping column 'inbody_skel_musc_mass' due to non-integer values.\n",
      "Skipping column 'inbody_body_fat_mass' due to non-integer values.\n",
      "Skipping column 'inbody_bmi' due to non-integer values.\n",
      "Skipping column 'inbody_perc_body_fat' due to non-integer values.\n",
      "Skipping column 'memory' due to non-integer values.\n",
      "Skipping column 'orient' due to non-integer values.\n",
      "Skipping column 'commun' due to non-integer values.\n",
      "Skipping column 'homehobb' due to non-integer values.\n",
      "Skipping column 'cdrsum' due to non-integer values.\n",
      "Skipping column 'tot_sum' due to non-integer values.\n",
      "Skipping column 'cdrglob' due to non-integer values.\n",
      "Skipping column 'comport' due to non-integer values.\n",
      "Skipping column 'orient_dist' due to non-integer values.\n",
      "Skipping column 'judgment_dist' due to non-integer values.\n",
      "Skipping column 'commun_dist' due to non-integer values.\n",
      "Skipping column 'homehobb_dist' due to non-integer values.\n",
      "Skipping column 'perscare_dist' due to non-integer values.\n",
      "Skipping column 'cdr_majority' due to non-integer values.\n",
      "Skipping column 'cdr_calc' due to non-integer values.\n",
      "Skipping column 'cdr_calc_final' due to non-integer values.\n",
      "record_id                          int64\n",
      "redcap_event_name                 object\n",
      "redcap_repeat_instrument           Int64\n",
      "redcap_repeat_instance             int64\n",
      "redcap_data_access_group          object\n",
      "                                   ...  \n",
      "serum_dt                           Int64\n",
      "urine_count                        Int64\n",
      "urine_dt                           Int64\n",
      "biospe_dde_notes                   Int64\n",
      "biospecimen_inventory_complete     Int64\n",
      "Length: 2900, dtype: object\n"
     ]
    }
   ],
   "source": [
    "# Identify all float columns\n",
    "float_columns = uds3_df.select_dtypes(include=['float']).columns\n",
    "\n",
    "# Convert safely\n",
    "for col in float_columns:\n",
    "    # Convert to numeric, coerce errors to NaN\n",
    "    uds3_df[col] = pd.to_numeric(uds3_df[col], errors='coerce')\n",
    "\n",
    "    # Replace infinities with NaN\n",
    "    uds3_df[col] = uds3_df[col].replace([np.inf, -np.inf], np.nan)\n",
    "\n",
    "    # Check if all remaining values are safe for integer conversion\n",
    "    if uds3_df[col].dropna().apply(float.is_integer).all():\n",
    "        uds3_df[col] = uds3_df[col].astype(\"Int64\")  # Convert to nullable integer\n",
    "    else:\n",
    "        print(f\"Skipping column '{col}' due to non-integer values.\")\n",
    "\n",
    "# Check the updated data types\n",
    "print(uds3_df.dtypes)\n"
   ]
  },
  {
   "cell_type": "code",
   "execution_count": 84,
   "id": "9f8cda46",
   "metadata": {},
   "outputs": [],
   "source": [
    "uds4_df = pd.DataFrame()\n",
    "\n",
    "# Load JSON mapping file\n",
    "with open(r'C:\\Users\\jaiga\\Downloads\\Crosswalks\\A5_D2_UDS4_programmatic_crosswalk_mappings.json', 'r', encoding='utf-8') as file:\n",
    "    mapping_data = json.load(file)\n",
    "    \n",
    "# Define the categories and their respective suffixes\n",
    "categories = {\n",
    "    'a': [1, 2, 3, 4,5],\n",
    "    'b': [1, 4, 5, 6, 7, 8, 9],\n",
    "    'c': [2],\n",
    "    'd': [1,2]\n",
    "}\n",
    "\n",
    "# Initialize dictionary\n",
    "data_dict = {}\n",
    "for category, numbers in categories.items():\n",
    "    for num in numbers:\n",
    "        key_suffix = f\"__{category}{num}\"\n",
    "        data_dict[f'ptid{key_suffix}'] = 'adc_sub_id'\n",
    "        data_dict[f'visitnum{key_suffix}'] = f'{category}{num}_visit_day'\n",
    "        data_dict[f'initials{key_suffix}'] = f'{category}{num}_ex_ini'"
   ]
  },
  {
   "cell_type": "code",
   "execution_count": 103,
   "id": "2a6c4ceb",
   "metadata": {},
   "outputs": [
    {
     "name": "stderr",
     "output_type": "stream",
     "text": [
      "C:\\Users\\jaiga\\AppData\\Local\\Temp\\ipykernel_17820\\1172636212.py:135: FutureWarning: Setting an item of incompatible dtype is deprecated and will raise an error in a future version of pandas. Value '999' has dtype incompatible with int32, please explicitly cast to a compatible dtype first.\n",
      "  uds4_df.loc[uds3_df[uds3_var].astype(str) == uds3_value, uds4_var] = uds4_value\n",
      "C:\\Users\\jaiga\\AppData\\Local\\Temp\\ipykernel_17820\\1172636212.py:135: FutureWarning: Setting an item of incompatible dtype is deprecated and will raise an error in a future version of pandas. Value '999' has dtype incompatible with int32, please explicitly cast to a compatible dtype first.\n",
      "  uds4_df.loc[uds3_df[uds3_var].astype(str) == uds3_value, uds4_var] = uds4_value\n",
      "C:\\Users\\jaiga\\AppData\\Local\\Temp\\ipykernel_17820\\1172636212.py:135: FutureWarning: Setting an item of incompatible dtype is deprecated and will raise an error in a future version of pandas. Value '999' has dtype incompatible with int32, please explicitly cast to a compatible dtype first.\n",
      "  uds4_df.loc[uds3_df[uds3_var].astype(str) == uds3_value, uds4_var] = uds4_value\n",
      "C:\\Users\\jaiga\\AppData\\Local\\Temp\\ipykernel_17820\\1172636212.py:135: FutureWarning: Setting an item of incompatible dtype is deprecated and will raise an error in a future version of pandas. Value '999' has dtype incompatible with int32, please explicitly cast to a compatible dtype first.\n",
      "  uds4_df.loc[uds3_df[uds3_var].astype(str) == uds3_value, uds4_var] = uds4_value\n",
      "C:\\Users\\jaiga\\AppData\\Local\\Temp\\ipykernel_17820\\1172636212.py:135: FutureWarning: Setting an item of incompatible dtype is deprecated and will raise an error in a future version of pandas. Value '999' has dtype incompatible with int32, please explicitly cast to a compatible dtype first.\n",
      "  uds4_df.loc[uds3_df[uds3_var].astype(str) == uds3_value, uds4_var] = uds4_value\n",
      "C:\\Users\\jaiga\\AppData\\Local\\Temp\\ipykernel_17820\\1172636212.py:135: FutureWarning: Setting an item of incompatible dtype is deprecated and will raise an error in a future version of pandas. Value '999' has dtype incompatible with int32, please explicitly cast to a compatible dtype first.\n",
      "  uds4_df.loc[uds3_df[uds3_var].astype(str) == uds3_value, uds4_var] = uds4_value\n"
     ]
    }
   ],
   "source": [
    "uds4_df = pd.DataFrame()\n",
    "\n",
    "def process_mappings(mapping_type):\n",
    "    for mapping in mapping_data.get(mapping_type, []):\n",
    "        uds3_var = mapping[\"UDS3_variable\"].lower()\n",
    "        uds4_var = mapping[\"UDS4_variable\"].lower()\n",
    "\n",
    "        uds3_var = data_dict.get(uds3_var, uds3_var)\n",
    "        structured_mappings = []\n",
    "\n",
    "        if mapping_type == 'Direct_Mappings':\n",
    "            response_levels = [m for m in mapping[\"crosswalk_remappings\"] if m[\"mapping_type\"] == \"Response LEVELS\"]\n",
    "            conformity = [m for m in mapping[\"crosswalk_remappings\"] if m[\"mapping_type\"] == \"Conformity\"]\n",
    "        else:\n",
    "            response_levels = [m for m in mapping[\"crosswalk_mappings\"] if m[\"mapping_type\"] == \"Response LEVELS\"]\n",
    "            conformity = [m for m in mapping[\"crosswalk_mappings\"] if m[\"mapping_type\"] == \"Conformity\"]\n",
    "            structured_mappings = [m for m in mapping.get(\"crosswalk_mappings\", []) if m[\"mapping_type\"] == \"Structured mapping\"]\n",
    "        \n",
    "        if mapping_type == 'Structured_Transformations':\n",
    "            if response_levels and not conformity and uds3_var in uds3_df.columns:\n",
    "                response_map = {str(item[\"UDS3_value\"]): str(item[\"UDS4_value\"]) for mapping in response_levels for item in mapping[\"mappings\"]}\n",
    "                for uds3_value, uds4_value in response_map.items():\n",
    "                    if \"|\" not in uds3_value and \"grep(\" not in uds3_value:\n",
    "                        if uds4_var in uds4_df.columns:\n",
    "                            mm = uds4_df[uds4_var] == \"NA\"\n",
    "                            uds4_df.loc[mm & uds3_df[uds3_var].astype(str) == uds3_value, uds4_var] = uds4_value\n",
    "                        else:\n",
    "                            uds4_df.loc[uds3_df[uds3_var].astype(str) == uds3_value, uds4_var] = uds4_value\n",
    "\n",
    "        if structured_mappings:\n",
    "            for struct_map in structured_mappings:\n",
    "                for mapping_entry in struct_map[\"mappings\"]:\n",
    "                    uds3_value = mapping_entry[\"UDS3_value\"]\n",
    "                    uds4_value = mapping_entry[\"UDS4_value\"]\n",
    "\n",
    "                    # Identify separator: OR ('|') or AND ('&')\n",
    "                    if \"|\" in uds3_value:\n",
    "                        separator = \"|\"\n",
    "                        operator = np.logical_or\n",
    "                    elif \"&\" in uds3_value:\n",
    "                        separator = \"&\"\n",
    "                        operator = np.logical_and\n",
    "                    else:\n",
    "                        separator = None\n",
    "                        operator = None\n",
    "\n",
    "                    # Handle multiple UDS3 variables with OR / AND conditions\n",
    "                    if separator:\n",
    "                        uds3_vars = [var.strip() for var in uds3_var.split(f\" {separator} \")]\n",
    "                        uds3_values = [var.strip() for var in uds3_value.split(f\" {separator} \")]\n",
    "\n",
    "                        # Ensure all UDS3 columns exist in the DataFrame\n",
    "                        if all(col in uds3_df.columns for col in uds3_vars):\n",
    "                            conditions = [(uds3_df[col].astype(str) == val) for col, val in zip(uds3_vars, uds3_values)]\n",
    "                            # Apply OR or AND depending on the separator\n",
    "                            if separator == '|':\n",
    "                                mask = np.logical_or.reduce(conditions)\n",
    "                            else:\n",
    "                                mask = np.logical_and.reduce(conditions)\n",
    "\n",
    "                            # Only update where conditions match\n",
    "                            if uds4_var in uds4_df.columns:\n",
    "                                missing_mask = uds4_df[uds4_var].isna()  # Handle missing (NA) values in uds4_df\n",
    "                                uds4_df.loc[missing_mask & mask, uds4_var] = uds4_value\n",
    "                            else:\n",
    "                                uds4_df.loc[mask, uds4_var] = uds4_value\n",
    "                    else:\n",
    "                        \n",
    "                        # Handle structured mathematical mappings (e.g., \"PDAGE + BIRTHYR\" → \"PDYR - BIRTHYR\")\n",
    "                        if any(op in uds3_value for op in [\"+\", \"-\", \"*\", \"/\"]):\n",
    "                            uds3_cols = [col.lower() for col in re.findall(r'[A-Za-z0-9_]+', uds4_value)]\n",
    "\n",
    "                            # Ensure all columns exist before computing\n",
    "                            if all(col in uds3_df.columns for col in uds3_cols):\n",
    "                                uds3_expr = uds4_value.replace(\"–\", \"-\").strip().lower()\n",
    "                                for col in uds3_cols:\n",
    "                                    uds3_expr = uds3_expr.replace(col, f\"uds3_df['{col}'].fillna(0)\")\n",
    "\n",
    "                            try:\n",
    "                                uds3_computed = eval(uds3_expr, {\"uds3_df\": uds3_df, \"np\": np})\n",
    "                            except Exception as e:\n",
    "                                print(f\"Error evaluating UDS3 expression {uds3_expr}: {e}\")\n",
    "                                continue\n",
    "                            if uds4_var and uds4_var not in uds4_df.columns:\n",
    "                                uds4_df[uds4_var] = \"NA\"\n",
    "\n",
    "                            if uds4_var:\n",
    "                                uds4_df[uds4_var] = uds3_computed.astype(int)\n",
    "\n",
    "                    # Handle \"paste()\" format for combining multiple columns into a single string\n",
    "                    if \"paste(\" in uds4_value:\n",
    "                        components_raw = uds4_value.replace(\"paste(\", \"\").replace(\")\", \"\").split(',')\n",
    "                        columns = [\n",
    "                            re.sub(r'(_{1,2}[A-E]\\d*)$', '', comp.strip()).lower()\n",
    "                            for comp in components_raw\n",
    "                            if re.search(r'_{1,2}[A-E]', comp)\n",
    "                        ]  # Checking if it contains a valid suffix like _A, __A, _B, __B, etc.\n",
    "\n",
    "                        if all(comp in uds3_df.columns for comp in columns):\n",
    "                            uds4_df[uds4_var] = (\n",
    "                                uds3_df[columns[0]].astype(str) + \"/\" +\n",
    "                                uds3_df[columns[1]].astype(str) + \"/\" +\n",
    "                                uds3_df[columns[2]].astype(str)\n",
    "                            )\n",
    "\n",
    "       # Case 1: No Response LEVELS, copy values directly\n",
    "        if not response_levels:\n",
    "            if uds3_var in uds3_df.columns:\n",
    "                if uds4_var in uds4_df.columns:\n",
    "                    mm = uds4_df[uds4_var].isna()\n",
    "                    uds4_df.loc[mm, uds4_var] = uds3_df[uds3_var]\n",
    "                else:\n",
    "                    uds4_df[uds4_var] = uds3_df[uds3_var]\n",
    "\n",
    "        # Case 2: Conformity check\n",
    "        elif conformity:\n",
    "            uds3_conformity_values = set(item[\"UDS3_value\"] for mapping in conformity for item in mapping[\"mappings\"])\n",
    "            uds4_conformity_values = set(item[\"UDS4_value\"] for mapping in conformity for item in mapping[\"mappings\"])\n",
    "            \n",
    "            if uds3_conformity_values == uds4_conformity_values:  # Ensure conformity matches\n",
    "                if uds3_var in uds3_df.columns:\n",
    "                    uds4_df[uds4_var] = uds3_df[uds3_var]\n",
    "            else:\n",
    "                response_map = {str(item[\"UDS3_value\"]): str(item[\"UDS4_value\"]) for mapping in response_levels for item in mapping[\"mappings\"]}\n",
    "                    \n",
    "                if uds3_var in uds3_df.columns:\n",
    "                    # Applying exact single-value mappings first (e.g., 2 -> 1)\n",
    "                    for uds3_value, uds4_value in response_map.items():\n",
    "                        if \"|\" not in uds3_value and \"grep(\" not in uds3_value:\n",
    "                            if pd.api.types.is_float_dtype(uds3_df[uds3_var]):\n",
    "                                float_uds3_value = float(uds3_value)\n",
    "                                uds4_df.loc[uds3_df[uds3_var] == float_uds3_value, uds4_var] = uds4_value\n",
    "\n",
    "                            else:\n",
    "                                uds4_df.loc[uds3_df[uds3_var].astype(str) == uds3_value, uds4_var] = uds4_value\n",
    "                        else:\n",
    "                            if not (uds3_var.endswith(\"sec\") or uds3_var.endswith(\"ter\")): #ignoring rest of racesec since it wont add any value\n",
    "                                # Handling cases with logical OR conditions (e.g., \"1 | 3 | 4 | 5 | 50 | 99\" -> None)\n",
    "                                values = uds3_value.split(\" | \")\n",
    "                                uds4_df.loc[uds3_df[uds3_var].astype(str).isin(values), uds4_var] = uds4_value\n",
    "                    \n",
    "                    # Handling grep-based text searches (e.g., grep(\"guatemalan\", HISPORX))\n",
    "                    for uds3_value, uds4_value in response_map.items():\n",
    "                        if \"grep(\" in uds3_value:\n",
    "                            search_term = re.search(r'grep\\(\"(.*?)\",', uds3_value).group(1).lower()\n",
    "                            uds4_df.loc[uds3_df[uds3_var].astype(str).str.contains(search_term, case=False, na=False), uds4_var] = uds4_value\n",
    "        \n",
    "        # Case 3: Handling secondary and tertiary race variables (race, racesec, raceter)\n",
    "        if uds3_var.endswith(\"sec\") or uds3_var.endswith(\"ter\"):\n",
    "            if uds3_var in uds3_df.columns:\n",
    "                missing_mask = uds4_df[uds4_var] == \"NA\"  # Identify rows where primary race is NA\n",
    "                \n",
    "                # Only update NA values in UDS4 based on racesec or raceter mappings\n",
    "                for uds3_value, uds4_value in response_map.items():\n",
    "                    if \"|\" not in uds3_value and \"grep(\" not in uds3_value:\n",
    "                        uds4_df.loc[missing_mask & (uds3_df[uds3_var].astype(str) == uds3_value), uds4_var] = uds4_value\n",
    "                    elif \"grep(\" in uds3_value:\n",
    "                        search_term = re.search(r'grep\\(\"(.*?)\",', uds3_value).group(1).lower()\n",
    "                        uds4_df.loc[missing_mask & uds3_df[uds3_var].astype(str).str.contains(search_term, case=False, na=False), uds4_var] = uds4_value\n",
    "                    else:\n",
    "                        values = uds3_value.split(\" | \")\n",
    "                        uds4_df.loc[missing_mask & uds3_df[uds3_var].astype(str).isin(values), uds4_var] = uds4_value\n",
    "                        \n",
    "# Process different mapping types dynamically\n",
    "mapping_types = [\"Direct_Mappings\",\"Conditional_Consistency\", \"Structured_Transformations\",\"High_Complexity\"]  # Add more types as needed\n",
    "for mapping_type in mapping_types:\n",
    "    process_mappings(mapping_type)"
   ]
  },
  {
   "cell_type": "code",
   "execution_count": 104,
   "id": "fce24f32",
   "metadata": {},
   "outputs": [],
   "source": [
    "# UTF-8-SIG encoding to avoid character corruption\n",
    "uds4_df.to_csv(\"uds4_data_a5d2.csv\", index=False, na_rep=\"NA\", encoding='utf-8-sig')"
   ]
  },
  {
   "cell_type": "code",
   "execution_count": 105,
   "id": "3dec5a7e",
   "metadata": {},
   "outputs": [
    {
     "data": {
      "text/html": [
       "<div>\n",
       "<style scoped>\n",
       "    .dataframe tbody tr th:only-of-type {\n",
       "        vertical-align: middle;\n",
       "    }\n",
       "\n",
       "    .dataframe tbody tr th {\n",
       "        vertical-align: top;\n",
       "    }\n",
       "\n",
       "    .dataframe thead th {\n",
       "        text-align: right;\n",
       "    }\n",
       "</style>\n",
       "<table border=\"1\" class=\"dataframe\">\n",
       "  <thead>\n",
       "    <tr style=\"text-align: right;\">\n",
       "      <th></th>\n",
       "      <th>cvothrx</th>\n",
       "      <th>othcondx</th>\n",
       "      <th>psycdisx</th>\n",
       "      <th>alcfreqyr</th>\n",
       "      <th>angiocp</th>\n",
       "      <th>anxiety</th>\n",
       "      <th>bipolar</th>\n",
       "      <th>cancer</th>\n",
       "      <th>cancermeta</th>\n",
       "      <th>cancerprim</th>\n",
       "      <th>...</th>\n",
       "      <th>rbd</th>\n",
       "      <th>strokage</th>\n",
       "      <th>lasttbi</th>\n",
       "      <th>rmreasa5d2</th>\n",
       "      <th>modea5d2</th>\n",
       "      <th>tiaage</th>\n",
       "      <th>frmdatea5d2</th>\n",
       "      <th>substpast</th>\n",
       "      <th>substyear</th>\n",
       "      <th>rmmodea5d2</th>\n",
       "    </tr>\n",
       "  </thead>\n",
       "  <tbody>\n",
       "    <tr>\n",
       "      <th>0</th>\n",
       "      <td>&lt;NA&gt;</td>\n",
       "      <td>NaN</td>\n",
       "      <td>&lt;NA&gt;</td>\n",
       "      <td>0</td>\n",
       "      <td>0</td>\n",
       "      <td>0</td>\n",
       "      <td>0</td>\n",
       "      <td>0</td>\n",
       "      <td>NaN</td>\n",
       "      <td>NaN</td>\n",
       "      <td>...</td>\n",
       "      <td>NaN</td>\n",
       "      <td>-1967</td>\n",
       "      <td>-1967</td>\n",
       "      <td>NaN</td>\n",
       "      <td>NaN</td>\n",
       "      <td>-1967</td>\n",
       "      <td>1/14/2025</td>\n",
       "      <td>0</td>\n",
       "      <td>0</td>\n",
       "      <td>NaN</td>\n",
       "    </tr>\n",
       "    <tr>\n",
       "      <th>1</th>\n",
       "      <td>&lt;NA&gt;</td>\n",
       "      <td>pectus excavatum requiring Ravitch procedure</td>\n",
       "      <td>&lt;NA&gt;</td>\n",
       "      <td>2</td>\n",
       "      <td>0</td>\n",
       "      <td>0</td>\n",
       "      <td>0</td>\n",
       "      <td>2</td>\n",
       "      <td>NaN</td>\n",
       "      <td>1</td>\n",
       "      <td>...</td>\n",
       "      <td>NaN</td>\n",
       "      <td>-1951</td>\n",
       "      <td>-1951</td>\n",
       "      <td>NaN</td>\n",
       "      <td>NaN</td>\n",
       "      <td>-1951</td>\n",
       "      <td>1/13/2025</td>\n",
       "      <td>0</td>\n",
       "      <td>0</td>\n",
       "      <td>NaN</td>\n",
       "    </tr>\n",
       "    <tr>\n",
       "      <th>2</th>\n",
       "      <td>&lt;NA&gt;</td>\n",
       "      <td>NaN</td>\n",
       "      <td>&lt;NA&gt;</td>\n",
       "      <td>3</td>\n",
       "      <td>0</td>\n",
       "      <td>0</td>\n",
       "      <td>1</td>\n",
       "      <td>2</td>\n",
       "      <td>1</td>\n",
       "      <td>NaN</td>\n",
       "      <td>...</td>\n",
       "      <td>NaN</td>\n",
       "      <td>-1960</td>\n",
       "      <td>-1960</td>\n",
       "      <td>NaN</td>\n",
       "      <td>2</td>\n",
       "      <td>999</td>\n",
       "      <td>2/5/2025</td>\n",
       "      <td>0</td>\n",
       "      <td>0</td>\n",
       "      <td>1</td>\n",
       "    </tr>\n",
       "  </tbody>\n",
       "</table>\n",
       "<p>3 rows × 57 columns</p>\n",
       "</div>"
      ],
      "text/plain": [
       "   cvothrx                                      othcondx  psycdisx alcfreqyr  \\\n",
       "0     <NA>                                           NaN      <NA>         0   \n",
       "1     <NA>  pectus excavatum requiring Ravitch procedure      <NA>         2   \n",
       "2     <NA>                                           NaN      <NA>         3   \n",
       "\n",
       "  angiocp  anxiety  bipolar cancer cancermeta cancerprim  ...  rbd strokage  \\\n",
       "0       0        0        0      0        NaN        NaN  ...  NaN    -1967   \n",
       "1       0        0        0      2        NaN          1  ...  NaN    -1951   \n",
       "2       0        0        1      2          1        NaN  ...  NaN    -1960   \n",
       "\n",
       "   lasttbi  rmreasa5d2  modea5d2  tiaage  frmdatea5d2 substpast  substyear  \\\n",
       "0    -1967         NaN       NaN   -1967    1/14/2025         0          0   \n",
       "1    -1951         NaN       NaN   -1951    1/13/2025         0          0   \n",
       "2    -1960         NaN         2     999     2/5/2025         0          0   \n",
       "\n",
       "   rmmodea5d2  \n",
       "0         NaN  \n",
       "1         NaN  \n",
       "2           1  \n",
       "\n",
       "[3 rows x 57 columns]"
      ]
     },
     "execution_count": 105,
     "metadata": {},
     "output_type": "execute_result"
    }
   ],
   "source": [
    "uds4_df.head(5)"
   ]
  },
  {
   "cell_type": "code",
   "execution_count": 106,
   "id": "5fe7143b",
   "metadata": {},
   "outputs": [
    {
     "data": {
      "text/plain": [
       "(3, 57)"
      ]
     },
     "execution_count": 106,
     "metadata": {},
     "output_type": "execute_result"
    }
   ],
   "source": [
    "uds4_df.shape"
   ]
  },
  {
   "cell_type": "code",
   "execution_count": 107,
   "id": "6469156e",
   "metadata": {},
   "outputs": [
    {
     "data": {
      "text/plain": [
       "0    0\n",
       "1    2\n",
       "2    3\n",
       "Name: alcfreqyr, dtype: object"
      ]
     },
     "execution_count": 107,
     "metadata": {},
     "output_type": "execute_result"
    }
   ],
   "source": [
    "uds4_df.alcfreqyr"
   ]
  },
  {
   "cell_type": "code",
   "execution_count": 108,
   "id": "16649d0b",
   "metadata": {},
   "outputs": [
    {
     "data": {
      "text/plain": [
       "0    -1967\n",
       "1       49\n",
       "2    -1960\n",
       "Name: pdage, dtype: object"
      ]
     },
     "execution_count": 108,
     "metadata": {},
     "output_type": "execute_result"
    }
   ],
   "source": [
    "uds4_df.pdage"
   ]
  },
  {
   "cell_type": "code",
   "execution_count": 109,
   "id": "896290bd",
   "metadata": {},
   "outputs": [
    {
     "data": {
      "text/plain": [
       "0    -1967\n",
       "1    -1951\n",
       "2      999\n",
       "Name: tiaage, dtype: object"
      ]
     },
     "execution_count": 109,
     "metadata": {},
     "output_type": "execute_result"
    }
   ],
   "source": [
    "uds4_df.tiaage"
   ]
  },
  {
   "cell_type": "code",
   "execution_count": 110,
   "id": "d6088cab",
   "metadata": {},
   "outputs": [
    {
     "data": {
      "text/plain": [
       "0    NaN\n",
       "1    NaN\n",
       "2    NaN\n",
       "Name: apnea, dtype: object"
      ]
     },
     "execution_count": 110,
     "metadata": {},
     "output_type": "execute_result"
    }
   ],
   "source": [
    "uds4_df.apnea"
   ]
  },
  {
   "cell_type": "code",
   "execution_count": null,
   "id": "8c5385b4",
   "metadata": {},
   "outputs": [],
   "source": []
  }
 ],
 "metadata": {
  "kernelspec": {
   "display_name": "Python 3 (ipykernel)",
   "language": "python",
   "name": "python3"
  },
  "language_info": {
   "codemirror_mode": {
    "name": "ipython",
    "version": 3
   },
   "file_extension": ".py",
   "mimetype": "text/x-python",
   "name": "python",
   "nbconvert_exporter": "python",
   "pygments_lexer": "ipython3",
   "version": "3.9.13"
  }
 },
 "nbformat": 4,
 "nbformat_minor": 5
}
